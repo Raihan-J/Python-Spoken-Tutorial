{
  "nbformat": 4,
  "nbformat_minor": 0,
  "metadata": {
    "colab": {
      "name": "Manipulating Strings.ipynb",
      "provenance": [],
      "collapsed_sections": [],
      "authorship_tag": "ABX9TyMo1pk7WFay1UgeM9qYREBS",
      "include_colab_link": true
    },
    "kernelspec": {
      "name": "python3",
      "display_name": "Python 3"
    }
  },
  "cells": [
    {
      "cell_type": "markdown",
      "metadata": {
        "id": "view-in-github",
        "colab_type": "text"
      },
      "source": [
        "<a href=\"https://colab.research.google.com/github/Raihan-J/Python-Spoken-Tutorial/blob/master/Manipulating%20Strings/Manipulating%20Strings.ipynb\" target=\"_parent\"><img src=\"https://colab.research.google.com/assets/colab-badge.svg\" alt=\"Open In Colab\"/></a>"
      ]
    },
    {
      "cell_type": "code",
      "metadata": {
        "id": "s2Lm99_mUgoa",
        "colab_type": "code",
        "colab": {
          "base_uri": "https://localhost:8080/",
          "height": 34
        },
        "outputId": "1c306adc-da5b-4ed7-ade3-30c0bc2f5951"
      },
      "source": [
        "data =\"python\"\n",
        "\n",
        "print(data[0:3])"
      ],
      "execution_count": 19,
      "outputs": [
        {
          "output_type": "stream",
          "text": [
            "pyt\n"
          ],
          "name": "stdout"
        }
      ]
    },
    {
      "cell_type": "code",
      "metadata": {
        "id": "InLHzbosV05z",
        "colab_type": "code",
        "colab": {
          "base_uri": "https://localhost:8080/",
          "height": 35
        },
        "outputId": "c761864e-7184-452b-fc06-4c963cdf31b0"
      },
      "source": [
        "week_name = [\"sun\", \"mon\", \"tue\", \"wed\", \"thu\", \"fri\", \"sat\"]\n",
        "\n",
        "s = \"saturday\"\n",
        "\n",
        "s[0:3]"
      ],
      "execution_count": 20,
      "outputs": [
        {
          "output_type": "execute_result",
          "data": {
            "application/vnd.google.colaboratory.intrinsic+json": {
              "type": "string"
            },
            "text/plain": [
              "'sat'"
            ]
          },
          "metadata": {
            "tags": []
          },
          "execution_count": 20
        }
      ]
    },
    {
      "cell_type": "code",
      "metadata": {
        "id": "RX3NwhegWQjI",
        "colab_type": "code",
        "colab": {
          "base_uri": "https://localhost:8080/",
          "height": 34
        },
        "outputId": "e29e4d70-ffa5-4696-e47e-b7604965486a"
      },
      "source": [
        "s[0:3] in week_name"
      ],
      "execution_count": 21,
      "outputs": [
        {
          "output_type": "execute_result",
          "data": {
            "text/plain": [
              "True"
            ]
          },
          "metadata": {
            "tags": []
          },
          "execution_count": 21
        }
      ]
    },
    {
      "cell_type": "markdown",
      "metadata": {
        "id": "VHTBDM9OWWY6",
        "colab_type": "text"
      },
      "source": [
        "**Assignment-1**"
      ]
    },
    {
      "cell_type": "code",
      "metadata": {
        "id": "tUQftYRTWY8K",
        "colab_type": "code",
        "colab": {
          "base_uri": "https://localhost:8080/",
          "height": 35
        },
        "outputId": "c98b9f47-af76-4acd-d86c-dfb3605c9614"
      },
      "source": [
        "s[1:-1]"
      ],
      "execution_count": 22,
      "outputs": [
        {
          "output_type": "execute_result",
          "data": {
            "application/vnd.google.colaboratory.intrinsic+json": {
              "type": "string"
            },
            "text/plain": [
              "'aturda'"
            ]
          },
          "metadata": {
            "tags": []
          },
          "execution_count": 22
        }
      ]
    },
    {
      "cell_type": "markdown",
      "metadata": {
        "id": "RfZK-l-EWnYU",
        "colab_type": "text"
      },
      "source": [
        "xxxxxxxxxxxxxxxxxxxxxxxxxxxxxxxxxxxxxxxxxxxxxxxxxxxxxxxxxxxxxxxxxxxxxxxxxxxxxxxx"
      ]
    },
    {
      "cell_type": "code",
      "metadata": {
        "id": "pDhi86WNWphv",
        "colab_type": "code",
        "colab": {
          "base_uri": "https://localhost:8080/",
          "height": 34
        },
        "outputId": "adeee5e0-665f-4c32-d7e3-71651ff52d09"
      },
      "source": [
        "s1 = \"dad\"\n",
        "\n",
        "s1 == s1[::-1]"
      ],
      "execution_count": 23,
      "outputs": [
        {
          "output_type": "execute_result",
          "data": {
            "text/plain": [
              "True"
            ]
          },
          "metadata": {
            "tags": []
          },
          "execution_count": 23
        }
      ]
    },
    {
      "cell_type": "code",
      "metadata": {
        "id": "jxVCD0-YW6mg",
        "colab_type": "code",
        "colab": {
          "base_uri": "https://localhost:8080/",
          "height": 35
        },
        "outputId": "925d380b-41ce-4385-99a5-25d112c1ed0d"
      },
      "source": [
        "s2 = \"Dad\"\n",
        "\n",
        "s2.upper()"
      ],
      "execution_count": 24,
      "outputs": [
        {
          "output_type": "execute_result",
          "data": {
            "application/vnd.google.colaboratory.intrinsic+json": {
              "type": "string"
            },
            "text/plain": [
              "'DAD'"
            ]
          },
          "metadata": {
            "tags": []
          },
          "execution_count": 24
        }
      ]
    },
    {
      "cell_type": "code",
      "metadata": {
        "id": "pFcnB3WUW_hB",
        "colab_type": "code",
        "colab": {
          "base_uri": "https://localhost:8080/",
          "height": 35
        },
        "outputId": "06268761-e7b6-45ac-bd8e-25a9cd2304c1"
      },
      "source": [
        "s2"
      ],
      "execution_count": 25,
      "outputs": [
        {
          "output_type": "execute_result",
          "data": {
            "application/vnd.google.colaboratory.intrinsic+json": {
              "type": "string"
            },
            "text/plain": [
              "'Dad'"
            ]
          },
          "metadata": {
            "tags": []
          },
          "execution_count": 25
        }
      ]
    },
    {
      "cell_type": "code",
      "metadata": {
        "id": "3fPdXR44XDcS",
        "colab_type": "code",
        "colab": {
          "base_uri": "https://localhost:8080/",
          "height": 34
        },
        "outputId": "9429f8e7-9f10-4f06-b4b3-decd436a5198"
      },
      "source": [
        "s2.lower() == s2.lower()[::-1]"
      ],
      "execution_count": 26,
      "outputs": [
        {
          "output_type": "execute_result",
          "data": {
            "text/plain": [
              "True"
            ]
          },
          "metadata": {
            "tags": []
          },
          "execution_count": 26
        }
      ]
    },
    {
      "cell_type": "markdown",
      "metadata": {
        "id": "bNd6UtwMW6Wl",
        "colab_type": "text"
      },
      "source": [
        "**Assignment-2**"
      ]
    },
    {
      "cell_type": "code",
      "metadata": {
        "id": "eUYrjc19XU6g",
        "colab_type": "code",
        "colab": {
          "base_uri": "https://localhost:8080/",
          "height": 68
        },
        "outputId": "41b79fcb-1226-4d37-b768-559122cb79a6"
      },
      "source": [
        "for day in ['SATURDAY', 'python', 'Sunday']:print (day, day.lower()[:3]in week_name)"
      ],
      "execution_count": 27,
      "outputs": [
        {
          "output_type": "stream",
          "text": [
            "SATURDAY True\n",
            "python False\n",
            "Sunday True\n"
          ],
          "name": "stdout"
        }
      ]
    },
    {
      "cell_type": "markdown",
      "metadata": {
        "id": "kniXoxIvXy7r",
        "colab_type": "text"
      },
      "source": [
        "xxxxxxxxxxxxxxxxxxxxxxxxxxxxxxxxxxxxxxxxxxxxxxxxxxxxxxxxxxxxxxxxxxxxxxxxxxxxxxxx"
      ]
    },
    {
      "cell_type": "code",
      "metadata": {
        "id": "hr7o_Zv-X1TQ",
        "colab_type": "code",
        "colab": {}
      },
      "source": [
        "email = \"info[at]fossee[dot]in\""
      ],
      "execution_count": 28,
      "outputs": []
    },
    {
      "cell_type": "code",
      "metadata": {
        "id": "exqkcAG-YDSg",
        "colab_type": "code",
        "colab": {
          "base_uri": "https://localhost:8080/",
          "height": 34
        },
        "outputId": "448591ee-68d0-414d-8899-e389eb6cc707"
      },
      "source": [
        "email_at = email.replace(\"[at]\", \"@\")\n",
        "print(email_at)"
      ],
      "execution_count": 29,
      "outputs": [
        {
          "output_type": "stream",
          "text": [
            "info@fossee[dot]in\n"
          ],
          "name": "stdout"
        }
      ]
    },
    {
      "cell_type": "markdown",
      "metadata": {
        "id": "5FbqhiufYSky",
        "colab_type": "text"
      },
      "source": [
        "**Assignment-3**"
      ]
    },
    {
      "cell_type": "code",
      "metadata": {
        "id": "Yil4vMBaYPzG",
        "colab_type": "code",
        "colab": {
          "base_uri": "https://localhost:8080/",
          "height": 34
        },
        "outputId": "e7a962cb-cfd3-4225-9061-fd8284d3d75e"
      },
      "source": [
        "email_proper = email_at.replace(\"[dot]\", \".\")\n",
        "print(email_proper)"
      ],
      "execution_count": 30,
      "outputs": [
        {
          "output_type": "stream",
          "text": [
            "info@fossee.in\n"
          ],
          "name": "stdout"
        }
      ]
    },
    {
      "cell_type": "markdown",
      "metadata": {
        "id": "UFlY4w9FYl7Q",
        "colab_type": "text"
      },
      "source": [
        "xxxxxxxxxxxxxxxxxxxxxxxxxxxxxxxxxxxxxxxxxxxxxxxxxxxxxxxxxxxxxxxxxxxxxxxxxxxxxxxx"
      ]
    },
    {
      "cell_type": "code",
      "metadata": {
        "id": "r8bfN0sQYuwD",
        "colab_type": "code",
        "colab": {}
      },
      "source": [
        "email_list = [\"info@fossee.in\", \"enquiries@fossee.in\", \"help@fossee.in\"]"
      ],
      "execution_count": 31,
      "outputs": []
    },
    {
      "cell_type": "code",
      "metadata": {
        "id": "Bhr33MVGbbEB",
        "colab_type": "code",
        "colab": {
          "base_uri": "https://localhost:8080/",
          "height": 34
        },
        "outputId": "9d024119-8f46-423b-ef2a-4438e5d6956b"
      },
      "source": [
        "email_str = \",\".join(email_list)\n",
        "print(email_str)"
      ],
      "execution_count": 32,
      "outputs": [
        {
          "output_type": "stream",
          "text": [
            "info@fossee.in,enquiries@fossee.in,help@fossee.in\n"
          ],
          "name": "stdout"
        }
      ]
    },
    {
      "cell_type": "markdown",
      "metadata": {
        "id": "dMJ5-Ik_b1Uo",
        "colab_type": "text"
      },
      "source": [
        "**Assignment-4**"
      ]
    },
    {
      "cell_type": "code",
      "metadata": {
        "id": "J8_dJSNebzxq",
        "colab_type": "code",
        "colab": {
          "base_uri": "https://localhost:8080/",
          "height": 34
        },
        "outputId": "bd7dd825-1f46-4ef8-a504-43e0aff93b1f"
      },
      "source": [
        "email_str = email_str.replace(\",\",\";\")\n",
        "print(email_str)"
      ],
      "execution_count": 33,
      "outputs": [
        {
          "output_type": "stream",
          "text": [
            "info@fossee.in;enquiries@fossee.in;help@fossee.in\n"
          ],
          "name": "stdout"
        }
      ]
    },
    {
      "cell_type": "markdown",
      "metadata": {
        "id": "Dw7Yn6SqcLdR",
        "colab_type": "text"
      },
      "source": [
        "**Assignment-5**"
      ]
    },
    {
      "cell_type": "code",
      "metadata": {
        "id": "VnjFPVkqcO1C",
        "colab_type": "code",
        "colab": {
          "base_uri": "https://localhost:8080/",
          "height": 34
        },
        "outputId": "4aa8cbfb-c22e-4739-bc0e-068920ba5a30"
      },
      "source": [
        "s = \"this was a string\"\n",
        "\n",
        "s = s.replace(\"string\",\"lists\")\n",
        "s = s.replace(\"was\", \"wasn't\")\n",
        "print(s)"
      ],
      "execution_count": 34,
      "outputs": [
        {
          "output_type": "stream",
          "text": [
            "this wasn't a lists\n"
          ],
          "name": "stdout"
        }
      ]
    },
    {
      "cell_type": "code",
      "metadata": {
        "id": "UiQrl-jucunb",
        "colab_type": "code",
        "colab": {
          "base_uri": "https://localhost:8080/",
          "height": 35
        },
        "outputId": "3621924f-b8d9-4093-f601-49898f2453d6"
      },
      "source": [
        "s = \"F.R.I.E.N.D.S\"\n",
        "s[::2].lower()"
      ],
      "execution_count": 35,
      "outputs": [
        {
          "output_type": "execute_result",
          "data": {
            "application/vnd.google.colaboratory.intrinsic+json": {
              "type": "string"
            },
            "text/plain": [
              "'friends'"
            ]
          },
          "metadata": {
            "tags": []
          },
          "execution_count": 35
        }
      ]
    }
  ]
}