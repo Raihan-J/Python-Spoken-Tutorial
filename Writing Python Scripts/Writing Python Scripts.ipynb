{
  "nbformat": 4,
  "nbformat_minor": 0,
  "metadata": {
    "colab": {
      "name": "Writing Python Scripts.ipynb",
      "provenance": [],
      "authorship_tag": "ABX9TyOwuU8gx6r6API+csqau+au",
      "include_colab_link": true
    },
    "kernelspec": {
      "name": "python3",
      "display_name": "Python 3"
    }
  },
  "cells": [
    {
      "cell_type": "markdown",
      "metadata": {
        "id": "view-in-github",
        "colab_type": "text"
      },
      "source": [
        "<a href=\"https://colab.research.google.com/github/Raihan-J/Python-Spoken-Tutorial/blob/master/Writing%20Python%20Scripts/Writing%20Python%20Scripts.ipynb\" target=\"_parent\"><img src=\"https://colab.research.google.com/assets/colab-badge.svg\" alt=\"Open In Colab\"/></a>"
      ]
    },
    {
      "cell_type": "code",
      "metadata": {
        "id": "qgRq_dBtPXAC",
        "colab_type": "code",
        "colab": {
          "base_uri": "https://localhost:8080/",
          "height": 204
        },
        "outputId": "1a162602-69db-488c-ba2b-e12d3d83f422"
      },
      "source": [
        "# This Code will download the required file\n",
        "\n",
        "!rm gcd_script.*\n",
        "!wget https://raw.githubusercontent.com/Raihan-J/Python-Spoken-Tutorial/master/Writing%20Python%20Scripts/gcd_script.py"
      ],
      "execution_count": 1,
      "outputs": [
        {
          "output_type": "stream",
          "text": [
            "--2020-09-11 17:59:00--  https://raw.githubusercontent.com/Raihan-J/Python-Spoken-Tutorial/master/Writing%20Python%20Scripts/gcd_script.py\n",
            "Resolving raw.githubusercontent.com (raw.githubusercontent.com)... 151.101.0.133, 151.101.64.133, 151.101.128.133, ...\n",
            "Connecting to raw.githubusercontent.com (raw.githubusercontent.com)|151.101.0.133|:443... connected.\n",
            "HTTP request sent, awaiting response... 200 OK\n",
            "Length: 198 [text/plain]\n",
            "Saving to: ‘gcd_script.py’\n",
            "\n",
            "\rgcd_script.py         0%[                    ]       0  --.-KB/s               \rgcd_script.py       100%[===================>]     198  --.-KB/s    in 0s      \n",
            "\n",
            "2020-09-11 17:59:00 (7.09 MB/s) - ‘gcd_script.py’ saved [198/198]\n",
            "\n"
          ],
          "name": "stdout"
        }
      ]
    },
    {
      "cell_type": "code",
      "metadata": {
        "id": "GFrjRHgKQjSB",
        "colab_type": "code",
        "colab": {
          "base_uri": "https://localhost:8080/",
          "height": 34
        },
        "outputId": "e3854fd8-2398-456f-99e6-834d0d824923"
      },
      "source": [
        "%run gcd_script.py"
      ],
      "execution_count": 2,
      "outputs": [
        {
          "output_type": "stream",
          "text": [
            "Everything is OK\n"
          ],
          "name": "stdout"
        }
      ]
    },
    {
      "cell_type": "code",
      "metadata": {
        "id": "20gsETGoRBKo",
        "colab_type": "code",
        "colab": {}
      },
      "source": [
        "import sys"
      ],
      "execution_count": 3,
      "outputs": []
    },
    {
      "cell_type": "code",
      "metadata": {
        "id": "abnOxV6HRJwV",
        "colab_type": "code",
        "colab": {}
      },
      "source": [
        "import gcd_script"
      ],
      "execution_count": 4,
      "outputs": []
    },
    {
      "cell_type": "code",
      "metadata": {
        "id": "CXSTpy6iRYPd",
        "colab_type": "code",
        "colab": {
          "base_uri": "https://localhost:8080/",
          "height": 34
        },
        "outputId": "e8787ce8-ede9-4280-f8a1-a0f0a0d16332"
      },
      "source": [
        "print(\"gcd of 187 and 391 is\", gcd_script.gcd(187, 391))"
      ],
      "execution_count": 5,
      "outputs": [
        {
          "output_type": "stream",
          "text": [
            "gcd of 187 and 391 is 17\n"
          ],
          "name": "stdout"
        }
      ]
    },
    {
      "cell_type": "code",
      "metadata": {
        "id": "nEGZ8xvORvFv",
        "colab_type": "code",
        "colab": {
          "base_uri": "https://localhost:8080/",
          "height": 34
        },
        "outputId": "e3b41044-fe31-4dc0-be34-be6082d0ca88"
      },
      "source": [
        "from gcd_script import gcd\n",
        "\n",
        "def check_relative_prime(a,b):\n",
        "    if gcd(a,b)==1:\n",
        "     print(\"Yes, %d and %d are relatively prime\" %(a,b))\n",
        "    else:\n",
        "     print(\"No, %d and %d are not relatively prime\" %(a,b))\n",
        "check_relative_prime(11,3)"
      ],
      "execution_count": 6,
      "outputs": [
        {
          "output_type": "stream",
          "text": [
            "Yes, 11 and 3 are relatively prime\n"
          ],
          "name": "stdout"
        }
      ]
    }
  ]
}