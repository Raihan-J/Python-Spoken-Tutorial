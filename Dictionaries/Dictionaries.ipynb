{
  "nbformat": 4,
  "nbformat_minor": 0,
  "metadata": {
    "colab": {
      "name": "Dictionaries.ipynb",
      "provenance": [],
      "authorship_tag": "ABX9TyMtmSmWPtqeUxURpZNUq9dh",
      "include_colab_link": true
    },
    "kernelspec": {
      "name": "python3",
      "display_name": "Python 3"
    }
  },
  "cells": [
    {
      "cell_type": "markdown",
      "metadata": {
        "id": "view-in-github",
        "colab_type": "text"
      },
      "source": [
        "<a href=\"https://colab.research.google.com/github/Raihan-J/Python-Spoken-Tutorial/blob/master/Dictionaries/Dictionaries.ipynb\" target=\"_parent\"><img src=\"https://colab.research.google.com/assets/colab-badge.svg\" alt=\"Open In Colab\"/></a>"
      ]
    },
    {
      "cell_type": "code",
      "metadata": {
        "id": "UvoWcS0U4ABI",
        "colab_type": "code",
        "colab": {}
      },
      "source": [
        "empty = {}"
      ],
      "execution_count": 1,
      "outputs": []
    },
    {
      "cell_type": "code",
      "metadata": {
        "id": "RNUAOgsS5Are",
        "colab_type": "code",
        "colab": {}
      },
      "source": [
        "student = {'name' : 'raj',\n",
        "           'age' : 16,\n",
        "           'gender':'male',\n",
        "           'class': 10\n",
        "          }"
      ],
      "execution_count": 2,
      "outputs": []
    },
    {
      "cell_type": "code",
      "metadata": {
        "id": "7vF50mpu5j90",
        "colab_type": "code",
        "colab": {
          "base_uri": "https://localhost:8080/",
          "height": 68
        },
        "outputId": "9ddba1da-c0eb-4a4f-cdc1-dcb19ee8ef65"
      },
      "source": [
        "print(student['name'])\n",
        "print(student['class'])\n",
        "print(student['age'])"
      ],
      "execution_count": 3,
      "outputs": [
        {
          "output_type": "stream",
          "text": [
            "raj\n",
            "10\n",
            "16\n"
          ],
          "name": "stdout"
        }
      ]
    },
    {
      "cell_type": "code",
      "metadata": {
        "id": "-FtSZJ3454ek",
        "colab_type": "code",
        "colab": {}
      },
      "source": [
        "student['height'] = 6.2"
      ],
      "execution_count": 4,
      "outputs": []
    },
    {
      "cell_type": "code",
      "metadata": {
        "id": "tt3KJyZ65-9E",
        "colab_type": "code",
        "colab": {
          "base_uri": "https://localhost:8080/",
          "height": 34
        },
        "outputId": "20d3fe8c-156f-4fea-9844-e9b2e2e6a39c"
      },
      "source": [
        "student"
      ],
      "execution_count": 5,
      "outputs": [
        {
          "output_type": "execute_result",
          "data": {
            "text/plain": [
              "{'age': 16, 'class': 10, 'gender': 'male', 'height': 6.2, 'name': 'raj'}"
            ]
          },
          "metadata": {
            "tags": []
          },
          "execution_count": 5
        }
      ]
    },
    {
      "cell_type": "code",
      "metadata": {
        "id": "xWqiZn4M6BML",
        "colab_type": "code",
        "colab": {
          "base_uri": "https://localhost:8080/",
          "height": 34
        },
        "outputId": "e01466b5-f7aa-4372-d27f-69cb31f87049"
      },
      "source": [
        "student['class'] = 11\n",
        "student"
      ],
      "execution_count": 6,
      "outputs": [
        {
          "output_type": "execute_result",
          "data": {
            "text/plain": [
              "{'age': 16, 'class': 11, 'gender': 'male', 'height': 6.2, 'name': 'raj'}"
            ]
          },
          "metadata": {
            "tags": []
          },
          "execution_count": 6
        }
      ]
    },
    {
      "cell_type": "code",
      "metadata": {
        "id": "Kv9DZ_926TrB",
        "colab_type": "code",
        "colab": {}
      },
      "source": [
        "del student['age']"
      ],
      "execution_count": 7,
      "outputs": []
    },
    {
      "cell_type": "code",
      "metadata": {
        "id": "on_C3Oba68KB",
        "colab_type": "code",
        "colab": {
          "base_uri": "https://localhost:8080/",
          "height": 34
        },
        "outputId": "cad48726-1cc1-4d2d-9875-eff5a50ed959"
      },
      "source": [
        "student"
      ],
      "execution_count": 8,
      "outputs": [
        {
          "output_type": "execute_result",
          "data": {
            "text/plain": [
              "{'class': 11, 'gender': 'male', 'height': 6.2, 'name': 'raj'}"
            ]
          },
          "metadata": {
            "tags": []
          },
          "execution_count": 8
        }
      ]
    },
    {
      "cell_type": "code",
      "metadata": {
        "id": "SrXYQ8XE6-wJ",
        "colab_type": "code",
        "colab": {
          "base_uri": "https://localhost:8080/",
          "height": 34
        },
        "outputId": "338b835e-f57e-4903-bee9-29cbe1bed2a8"
      },
      "source": [
        "'school' in student"
      ],
      "execution_count": 9,
      "outputs": [
        {
          "output_type": "execute_result",
          "data": {
            "text/plain": [
              "False"
            ]
          },
          "metadata": {
            "tags": []
          },
          "execution_count": 9
        }
      ]
    },
    {
      "cell_type": "code",
      "metadata": {
        "id": "Q3yrBqrE7Dev",
        "colab_type": "code",
        "colab": {
          "base_uri": "https://localhost:8080/",
          "height": 34
        },
        "outputId": "1b19d632-4d04-4422-81a2-e854f24691cb"
      },
      "source": [
        "'name' in student"
      ],
      "execution_count": 10,
      "outputs": [
        {
          "output_type": "execute_result",
          "data": {
            "text/plain": [
              "True"
            ]
          },
          "metadata": {
            "tags": []
          },
          "execution_count": 10
        }
      ]
    },
    {
      "cell_type": "code",
      "metadata": {
        "id": "cX_d0t_e7Gdq",
        "colab_type": "code",
        "colab": {
          "base_uri": "https://localhost:8080/",
          "height": 34
        },
        "outputId": "e41df242-8acb-4959-b175-6ad9b7a2f949"
      },
      "source": [
        "student.keys()"
      ],
      "execution_count": 11,
      "outputs": [
        {
          "output_type": "execute_result",
          "data": {
            "text/plain": [
              "dict_keys(['name', 'gender', 'class', 'height'])"
            ]
          },
          "metadata": {
            "tags": []
          },
          "execution_count": 11
        }
      ]
    },
    {
      "cell_type": "code",
      "metadata": {
        "id": "-yt6nxyI7LbJ",
        "colab_type": "code",
        "colab": {
          "base_uri": "https://localhost:8080/",
          "height": 34
        },
        "outputId": "815a5ac9-2336-40dd-a2c9-80a5de914f66"
      },
      "source": [
        "student.values()"
      ],
      "execution_count": 12,
      "outputs": [
        {
          "output_type": "execute_result",
          "data": {
            "text/plain": [
              "dict_values(['raj', 'male', 11, 6.2])"
            ]
          },
          "metadata": {
            "tags": []
          },
          "execution_count": 12
        }
      ]
    },
    {
      "cell_type": "code",
      "metadata": {
        "id": "9SagluWH7da5",
        "colab_type": "code",
        "colab": {
          "base_uri": "https://localhost:8080/",
          "height": 34
        },
        "outputId": "f34634b5-72d9-4492-d693-ae6e557d9d9d"
      },
      "source": [
        "student.items()"
      ],
      "execution_count": 13,
      "outputs": [
        {
          "output_type": "execute_result",
          "data": {
            "text/plain": [
              "dict_items([('name', 'raj'), ('gender', 'male'), ('class', 11), ('height', 6.2)])"
            ]
          },
          "metadata": {
            "tags": []
          },
          "execution_count": 13
        }
      ]
    },
    {
      "cell_type": "markdown",
      "metadata": {
        "id": "i-z83cWU8gsf",
        "colab_type": "text"
      },
      "source": [
        "**Assignment-1**"
      ]
    },
    {
      "cell_type": "code",
      "metadata": {
        "id": "GyLuJApR7gil",
        "colab_type": "code",
        "colab": {
          "base_uri": "https://localhost:8080/",
          "height": 85
        },
        "outputId": "de694116-8dba-43a3-f215-76af089c12bc"
      },
      "source": [
        "for key,val in student.items():\n",
        "    print(key, val)"
      ],
      "execution_count": 14,
      "outputs": [
        {
          "output_type": "stream",
          "text": [
            "name raj\n",
            "gender male\n",
            "class 11\n",
            "height 6.2\n"
          ],
          "name": "stdout"
        }
      ]
    }
  ]
}