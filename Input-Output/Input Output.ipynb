{
  "nbformat": 4,
  "nbformat_minor": 0,
  "metadata": {
    "colab": {
      "name": "Input-Output.ipynb",
      "provenance": [],
      "authorship_tag": "ABX9TyOScHD3BSI5QFLBd7POqn5F",
      "include_colab_link": true
    },
    "kernelspec": {
      "name": "python3",
      "display_name": "Python 3"
    }
  },
  "cells": [
    {
      "cell_type": "markdown",
      "metadata": {
        "id": "view-in-github",
        "colab_type": "text"
      },
      "source": [
        "<a href=\"https://colab.research.google.com/github/Raihan-J/Python-Spoken-Tutorial/blob/master/Input-Output/Input%20Output.ipynb\" target=\"_parent\"><img src=\"https://colab.research.google.com/assets/colab-badge.svg\" alt=\"Open In Colab\"/></a>"
      ]
    },
    {
      "cell_type": "code",
      "metadata": {
        "id": "_xNN_fVXH6uH",
        "colab_type": "code",
        "colab": {
          "base_uri": "https://localhost:8080/",
          "height": 218
        },
        "outputId": "1b07a023-893e-4bbd-cefb-dfeff6d6167c"
      },
      "source": [
        "# This code will download the print_eample.py\n",
        "!rm print_example*\n",
        "!wget https://raw.githubusercontent.com/Raihan-J/Python-Spoken-Tutorial/master/Input-Output/print_eample.py"
      ],
      "execution_count": 1,
      "outputs": [
        {
          "output_type": "stream",
          "text": [
            "rm: cannot remove 'print_example*': No such file or directory\n",
            "--2020-09-08 09:11:18--  https://raw.githubusercontent.com/Raihan-J/Python-Spoken-Tutorial/master/Input-Output/print_eample.py\n",
            "Resolving raw.githubusercontent.com (raw.githubusercontent.com)... 151.101.0.133, 151.101.64.133, 151.101.128.133, ...\n",
            "Connecting to raw.githubusercontent.com (raw.githubusercontent.com)|151.101.0.133|:443... connected.\n",
            "HTTP request sent, awaiting response... 200 OK\n",
            "Length: 70 [text/plain]\n",
            "Saving to: ‘print_eample.py’\n",
            "\n",
            "print_eample.py     100%[===================>]      70  --.-KB/s    in 0s      \n",
            "\n",
            "2020-09-08 09:11:19 (1.69 MB/s) - ‘print_eample.py’ saved [70/70]\n",
            "\n"
          ],
          "name": "stdout"
        }
      ]
    },
    {
      "cell_type": "code",
      "metadata": {
        "id": "GlwvZjWWEiK9",
        "colab_type": "code",
        "colab": {
          "base_uri": "https://localhost:8080/",
          "height": 35
        },
        "outputId": "059904c9-41dd-4be1-d23a-48ab38132803"
      },
      "source": [
        "a = \"This is a string\"\n",
        "a"
      ],
      "execution_count": 2,
      "outputs": [
        {
          "output_type": "execute_result",
          "data": {
            "application/vnd.google.colaboratory.intrinsic+json": {
              "type": "string"
            },
            "text/plain": [
              "'This is a string'"
            ]
          },
          "metadata": {
            "tags": []
          },
          "execution_count": 2
        }
      ]
    },
    {
      "cell_type": "code",
      "metadata": {
        "id": "Vd9aGj-TEylQ",
        "colab_type": "code",
        "colab": {
          "base_uri": "https://localhost:8080/",
          "height": 34
        },
        "outputId": "c15ddfaf-911b-4d13-c36b-e4c72e85e387"
      },
      "source": [
        "print(a)"
      ],
      "execution_count": 3,
      "outputs": [
        {
          "output_type": "stream",
          "text": [
            "This is a string\n"
          ],
          "name": "stdout"
        }
      ]
    },
    {
      "cell_type": "code",
      "metadata": {
        "id": "o5H9D6ENE00V",
        "colab_type": "code",
        "colab": {
          "base_uri": "https://localhost:8080/",
          "height": 35
        },
        "outputId": "b93f07a9-b279-4dd0-9d7c-4153e6e89713"
      },
      "source": [
        "b = \"A line \\n New line\"\n",
        "b"
      ],
      "execution_count": 4,
      "outputs": [
        {
          "output_type": "execute_result",
          "data": {
            "application/vnd.google.colaboratory.intrinsic+json": {
              "type": "string"
            },
            "text/plain": [
              "'A line \\n New line'"
            ]
          },
          "metadata": {
            "tags": []
          },
          "execution_count": 4
        }
      ]
    },
    {
      "cell_type": "code",
      "metadata": {
        "id": "0UuBomHuE-Ak",
        "colab_type": "code",
        "colab": {
          "base_uri": "https://localhost:8080/",
          "height": 50
        },
        "outputId": "40113286-f0ff-47c3-a535-6bc2de32aaa3"
      },
      "source": [
        "print(b)"
      ],
      "execution_count": 5,
      "outputs": [
        {
          "output_type": "stream",
          "text": [
            "A line \n",
            " New line\n"
          ],
          "name": "stdout"
        }
      ]
    },
    {
      "cell_type": "code",
      "metadata": {
        "id": "vD7aGip_FAjJ",
        "colab_type": "code",
        "colab": {
          "base_uri": "https://localhost:8080/",
          "height": 34
        },
        "outputId": "47a1b09b-3df3-42aa-b5f6-dfa881841b25"
      },
      "source": [
        "x = 1.56789\n",
        "\n",
        "print('The value of x is %3.2f' %x)"
      ],
      "execution_count": 6,
      "outputs": [
        {
          "output_type": "stream",
          "text": [
            "The value of x is 1.57\n"
          ],
          "name": "stdout"
        }
      ]
    },
    {
      "cell_type": "code",
      "metadata": {
        "id": "FkJ2zZOFFxBl",
        "colab_type": "code",
        "colab": {
          "base_uri": "https://localhost:8080/",
          "height": 34
        },
        "outputId": "c4745d25-d6fa-4c02-bd63-b9901c2bf0ba"
      },
      "source": [
        "print('The value of x is %3.4f' %x)"
      ],
      "execution_count": 7,
      "outputs": [
        {
          "output_type": "stream",
          "text": [
            "The value of x is 1.5679\n"
          ],
          "name": "stdout"
        }
      ]
    },
    {
      "cell_type": "code",
      "metadata": {
        "id": "wAE-xN4yF6dr",
        "colab_type": "code",
        "colab": {
          "base_uri": "https://localhost:8080/",
          "height": 34
        },
        "outputId": "b6770077-c377-4fbf-b01e-0816309a6396"
      },
      "source": [
        "y = 2\n",
        "z = \"red\"\n",
        "\n",
        "print('x is %2.1f, y is %d, z is %s' %(x,y,z))"
      ],
      "execution_count": 8,
      "outputs": [
        {
          "output_type": "stream",
          "text": [
            "x is 1.6, y is 2, z is red\n"
          ],
          "name": "stdout"
        }
      ]
    },
    {
      "cell_type": "markdown",
      "metadata": {
        "id": "0gjPWKZMGXs7",
        "colab_type": "text"
      },
      "source": [
        "**Assignment-1**"
      ]
    },
    {
      "cell_type": "code",
      "metadata": {
        "id": "BWQ89eeeGSSI",
        "colab_type": "code",
        "colab": {
          "base_uri": "https://localhost:8080/",
          "height": 34
        },
        "outputId": "07791b0a-b22e-41a3-ca1b-d6c7c8ebc9a4"
      },
      "source": [
        "print('x is %d, y is %f'%(x,y))"
      ],
      "execution_count": 9,
      "outputs": [
        {
          "output_type": "stream",
          "text": [
            "x is 1, y is 2.000000\n"
          ],
          "name": "stdout"
        }
      ]
    },
    {
      "cell_type": "markdown",
      "metadata": {
        "id": "zkusuDW3IIXT",
        "colab_type": "text"
      },
      "source": [
        "////////////////////////////////////////////////////////////////////////////////"
      ]
    },
    {
      "cell_type": "code",
      "metadata": {
        "id": "fh_LWB_IGlYp",
        "colab_type": "code",
        "colab": {
          "base_uri": "https://localhost:8080/",
          "height": 67
        },
        "outputId": "462773d6-1c14-4544-8e2e-e7f12907fc08"
      },
      "source": [
        "%run print_eample.py"
      ],
      "execution_count": 10,
      "outputs": [
        {
          "output_type": "stream",
          "text": [
            "Hello\n",
            "World\n",
            "Hello World\n"
          ],
          "name": "stdout"
        }
      ]
    },
    {
      "cell_type": "code",
      "metadata": {
        "id": "JiN5xev4IRPA",
        "colab_type": "code",
        "colab": {
          "base_uri": "https://localhost:8080/",
          "height": 34
        },
        "outputId": "16a7e030-ce94-4b12-bdd4-8062f2fc61c9"
      },
      "source": [
        "ip =input()"
      ],
      "execution_count": 11,
      "outputs": [
        {
          "output_type": "stream",
          "text": [
            "an input\n"
          ],
          "name": "stdout"
        }
      ]
    },
    {
      "cell_type": "code",
      "metadata": {
        "id": "YU9LfhwlIkqS",
        "colab_type": "code",
        "colab": {
          "base_uri": "https://localhost:8080/",
          "height": 35
        },
        "outputId": "dd432c9d-9f30-48d7-ea4a-3a2600a0d219"
      },
      "source": [
        "ip"
      ],
      "execution_count": 12,
      "outputs": [
        {
          "output_type": "execute_result",
          "data": {
            "application/vnd.google.colaboratory.intrinsic+json": {
              "type": "string"
            },
            "text/plain": [
              "'an input'"
            ]
          },
          "metadata": {
            "tags": []
          },
          "execution_count": 12
        }
      ]
    },
    {
      "cell_type": "markdown",
      "metadata": {
        "id": "Y31CIF7YImU_",
        "colab_type": "text"
      },
      "source": [
        "**Assignment-2**"
      ]
    },
    {
      "cell_type": "code",
      "metadata": {
        "id": "vFukr5OVIpta",
        "colab_type": "code",
        "colab": {
          "base_uri": "https://localhost:8080/",
          "height": 34
        },
        "outputId": "9b88212a-e12c-457d-c7a9-a9c47bdc7428"
      },
      "source": [
        "c = input()"
      ],
      "execution_count": 13,
      "outputs": [
        {
          "output_type": "stream",
          "text": [
            "5.6\n"
          ],
          "name": "stdout"
        }
      ]
    },
    {
      "cell_type": "code",
      "metadata": {
        "id": "lMfvUDlDIu0t",
        "colab_type": "code",
        "colab": {
          "base_uri": "https://localhost:8080/",
          "height": 35
        },
        "outputId": "edb4a656-7832-42b0-ffdb-b6a24de7dcdb"
      },
      "source": [
        "c"
      ],
      "execution_count": 14,
      "outputs": [
        {
          "output_type": "execute_result",
          "data": {
            "application/vnd.google.colaboratory.intrinsic+json": {
              "type": "string"
            },
            "text/plain": [
              "'5.6'"
            ]
          },
          "metadata": {
            "tags": []
          },
          "execution_count": 14
        }
      ]
    },
    {
      "cell_type": "code",
      "metadata": {
        "id": "15p5lxydIwBw",
        "colab_type": "code",
        "colab": {
          "base_uri": "https://localhost:8080/",
          "height": 34
        },
        "outputId": "06e1399e-07d7-471c-8af2-5d9d9c8abc23"
      },
      "source": [
        "type(c)"
      ],
      "execution_count": 15,
      "outputs": [
        {
          "output_type": "execute_result",
          "data": {
            "text/plain": [
              "str"
            ]
          },
          "metadata": {
            "tags": []
          },
          "execution_count": 15
        }
      ]
    },
    {
      "cell_type": "markdown",
      "metadata": {
        "id": "avtaERzKIzyN",
        "colab_type": "text"
      },
      "source": [
        "**Assigment-3**"
      ]
    },
    {
      "cell_type": "code",
      "metadata": {
        "id": "e1xHe4R3I2lW",
        "colab_type": "code",
        "colab": {
          "base_uri": "https://localhost:8080/",
          "height": 34
        },
        "outputId": "99f69def-9530-4fcd-ad38-cfd5acef6117"
      },
      "source": [
        "d = input()"
      ],
      "execution_count": 16,
      "outputs": [
        {
          "output_type": "stream",
          "text": [
            "\n"
          ],
          "name": "stdout"
        }
      ]
    },
    {
      "cell_type": "code",
      "metadata": {
        "id": "O_RyAuFeI7Py",
        "colab_type": "code",
        "colab": {
          "base_uri": "https://localhost:8080/",
          "height": 35
        },
        "outputId": "18479555-2d79-4e3f-8200-c585f558f8c9"
      },
      "source": [
        "d"
      ],
      "execution_count": 17,
      "outputs": [
        {
          "output_type": "execute_result",
          "data": {
            "application/vnd.google.colaboratory.intrinsic+json": {
              "type": "string"
            },
            "text/plain": [
              "''"
            ]
          },
          "metadata": {
            "tags": []
          },
          "execution_count": 17
        }
      ]
    },
    {
      "cell_type": "code",
      "metadata": {
        "id": "jvAYRJPMJAJ0",
        "colab_type": "code",
        "colab": {
          "base_uri": "https://localhost:8080/",
          "height": 50
        },
        "outputId": "6ce556c9-11b8-4373-da4d-0e5fe5bde42f"
      },
      "source": [
        "ip =input(\"Please enter a number\\n\")"
      ],
      "execution_count": 18,
      "outputs": [
        {
          "output_type": "stream",
          "text": [
            "Please enter a number\n",
            "12\n"
          ],
          "name": "stdout"
        }
      ]
    }
  ]
}