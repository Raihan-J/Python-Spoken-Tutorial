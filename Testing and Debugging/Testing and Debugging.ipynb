{
  "nbformat": 4,
  "nbformat_minor": 0,
  "metadata": {
    "colab": {
      "name": "Testing and Debugging.ipynb",
      "provenance": [],
      "authorship_tag": "ABX9TyMLpw9bNm6DgYeGfkKGTpL7",
      "include_colab_link": true
    },
    "kernelspec": {
      "name": "python3",
      "display_name": "Python 3"
    }
  },
  "cells": [
    {
      "cell_type": "markdown",
      "metadata": {
        "id": "view-in-github",
        "colab_type": "text"
      },
      "source": [
        "<a href=\"https://colab.research.google.com/github/Raihan-J/Python-Spoken-Tutorial/blob/master/Testing%20and%20Debugging/Testing%20and%20Debugging.ipynb\" target=\"_parent\"><img src=\"https://colab.research.google.com/assets/colab-badge.svg\" alt=\"Open In Colab\"/></a>"
      ]
    },
    {
      "cell_type": "code",
      "metadata": {
        "id": "FS7PGM1nVSgy",
        "colab_type": "code",
        "colab": {
          "base_uri": "https://localhost:8080/",
          "height": 1000
        },
        "outputId": "0638a918-978c-4888-8e89-6b6c3d8ab939"
      },
      "source": [
        "# This Code will download the required files..\n",
        "\n",
        "!rm automate_test_gcd.*\n",
        "!wget https://raw.githubusercontent.com/Raihan-J/Python-Spoken-Tutorial/master/Testing%20and%20Debugging/automate_test_gcd.py\n",
        "\n",
        "!rm find_gcd.*\n",
        "!wget https://raw.githubusercontent.com/Raihan-J/Python-Spoken-Tutorial/master/Testing%20and%20Debugging/find_gcd.py\n",
        "\n",
        "!rm find_lcm.*\n",
        "!wget https://raw.githubusercontent.com/Raihan-J/Python-Spoken-Tutorial/master/Testing%20and%20Debugging/find_lcm.py\n",
        "\n",
        "!rm lcmtestcases.*\n",
        "!wget https://github.com/Raihan-J/Python-Spoken-Tutorial/raw/master/Testing%20and%20Debugging/lcmtestcases.txt\n",
        "\n",
        "!rm test_gcd.*\n",
        "!wget https://github.com/Raihan-J/Python-Spoken-Tutorial/raw/master/Testing%20and%20Debugging/test_gcd.py\n",
        "\n",
        "!rm testcases.*\n",
        "!wget https://github.com/Raihan-J/Python-Spoken-Tutorial/raw/master/Testing%20and%20Debugging/testcases.txt"
      ],
      "execution_count": 1,
      "outputs": [
        {
          "output_type": "stream",
          "text": [
            "rm: cannot remove 'automate_test_gcd.*': No such file or directory\n",
            "--2020-09-11 18:37:47--  https://raw.githubusercontent.com/Raihan-J/Python-Spoken-Tutorial/master/Testing%20and%20Debugging/automate_test_gcd.py\n",
            "Resolving raw.githubusercontent.com (raw.githubusercontent.com)... 151.101.0.133, 151.101.64.133, 151.101.128.133, ...\n",
            "Connecting to raw.githubusercontent.com (raw.githubusercontent.com)|151.101.0.133|:443... connected.\n",
            "HTTP request sent, awaiting response... 200 OK\n",
            "Length: 384 [text/plain]\n",
            "Saving to: ‘automate_test_gcd.py’\n",
            "\n",
            "automate_test_gcd.p 100%[===================>]     384  --.-KB/s    in 0s      \n",
            "\n",
            "2020-09-11 18:37:47 (18.0 MB/s) - ‘automate_test_gcd.py’ saved [384/384]\n",
            "\n",
            "rm: cannot remove 'find_gcd.*': No such file or directory\n",
            "--2020-09-11 18:37:47--  https://raw.githubusercontent.com/Raihan-J/Python-Spoken-Tutorial/master/Testing%20and%20Debugging/find_gcd.py\n",
            "Resolving raw.githubusercontent.com (raw.githubusercontent.com)... 151.101.0.133, 151.101.64.133, 151.101.128.133, ...\n",
            "Connecting to raw.githubusercontent.com (raw.githubusercontent.com)|151.101.0.133|:443... connected.\n",
            "HTTP request sent, awaiting response... 200 OK\n",
            "Length: 71 [text/plain]\n",
            "Saving to: ‘find_gcd.py’\n",
            "\n",
            "find_gcd.py         100%[===================>]      71  --.-KB/s    in 0s      \n",
            "\n",
            "2020-09-11 18:37:47 (3.69 MB/s) - ‘find_gcd.py’ saved [71/71]\n",
            "\n",
            "rm: cannot remove 'find_lcm.*': No such file or directory\n",
            "--2020-09-11 18:37:48--  https://raw.githubusercontent.com/Raihan-J/Python-Spoken-Tutorial/master/Testing%20and%20Debugging/find_lcm.py\n",
            "Resolving raw.githubusercontent.com (raw.githubusercontent.com)... 151.101.0.133, 151.101.64.133, 151.101.128.133, ...\n",
            "Connecting to raw.githubusercontent.com (raw.githubusercontent.com)|151.101.0.133|:443... connected.\n",
            "HTTP request sent, awaiting response... 200 OK\n",
            "Length: 400 [text/plain]\n",
            "Saving to: ‘find_lcm.py’\n",
            "\n",
            "find_lcm.py         100%[===================>]     400  --.-KB/s    in 0s      \n",
            "\n",
            "2020-09-11 18:37:48 (21.0 MB/s) - ‘find_lcm.py’ saved [400/400]\n",
            "\n",
            "rm: cannot remove 'lcmtestcases.*': No such file or directory\n",
            "--2020-09-11 18:37:48--  https://github.com/Raihan-J/Python-Spoken-Tutorial/raw/master/Testing%20and%20Debugging/lcmtestcases.txt\n",
            "Resolving github.com (github.com)... 140.82.121.3\n",
            "Connecting to github.com (github.com)|140.82.121.3|:443... connected.\n",
            "HTTP request sent, awaiting response... 302 Found\n",
            "Location: https://raw.githubusercontent.com/Raihan-J/Python-Spoken-Tutorial/master/Testing%20and%20Debugging/lcmtestcases.txt [following]\n",
            "--2020-09-11 18:37:48--  https://raw.githubusercontent.com/Raihan-J/Python-Spoken-Tutorial/master/Testing%20and%20Debugging/lcmtestcases.txt\n",
            "Resolving raw.githubusercontent.com (raw.githubusercontent.com)... 151.101.0.133, 151.101.64.133, 151.101.128.133, ...\n",
            "Connecting to raw.githubusercontent.com (raw.githubusercontent.com)|151.101.0.133|:443... connected.\n",
            "HTTP request sent, awaiting response... 200 OK\n",
            "Length: 35 [text/plain]\n",
            "Saving to: ‘lcmtestcases.txt’\n",
            "\n",
            "lcmtestcases.txt    100%[===================>]      35  --.-KB/s    in 0s      \n",
            "\n",
            "2020-09-11 18:37:48 (1.56 MB/s) - ‘lcmtestcases.txt’ saved [35/35]\n",
            "\n",
            "rm: cannot remove 'test_gcd.*': No such file or directory\n",
            "--2020-09-11 18:37:49--  https://github.com/Raihan-J/Python-Spoken-Tutorial/raw/master/Testing%20and%20Debugging/test_gcd.py\n",
            "Resolving github.com (github.com)... 140.82.118.4\n",
            "Connecting to github.com (github.com)|140.82.118.4|:443... connected.\n",
            "HTTP request sent, awaiting response... 302 Found\n",
            "Location: https://raw.githubusercontent.com/Raihan-J/Python-Spoken-Tutorial/master/Testing%20and%20Debugging/test_gcd.py [following]\n",
            "--2020-09-11 18:37:49--  https://raw.githubusercontent.com/Raihan-J/Python-Spoken-Tutorial/master/Testing%20and%20Debugging/test_gcd.py\n",
            "Resolving raw.githubusercontent.com (raw.githubusercontent.com)... 151.101.0.133, 151.101.64.133, 151.101.128.133, ...\n",
            "Connecting to raw.githubusercontent.com (raw.githubusercontent.com)|151.101.0.133|:443... connected.\n",
            "HTTP request sent, awaiting response... 200 OK\n",
            "Length: 157 [text/plain]\n",
            "Saving to: ‘test_gcd.py’\n",
            "\n",
            "test_gcd.py         100%[===================>]     157  --.-KB/s    in 0s      \n",
            "\n",
            "2020-09-11 18:37:49 (6.71 MB/s) - ‘test_gcd.py’ saved [157/157]\n",
            "\n",
            "rm: cannot remove 'testcases.*': No such file or directory\n",
            "--2020-09-11 18:37:49--  https://github.com/Raihan-J/Python-Spoken-Tutorial/raw/master/Testing%20and%20Debugging/testcases.txt\n",
            "Resolving github.com (github.com)... 140.82.118.4\n",
            "Connecting to github.com (github.com)|140.82.118.4|:443... connected.\n",
            "HTTP request sent, awaiting response... 302 Found\n",
            "Location: https://raw.githubusercontent.com/Raihan-J/Python-Spoken-Tutorial/master/Testing%20and%20Debugging/testcases.txt [following]\n",
            "--2020-09-11 18:37:49--  https://raw.githubusercontent.com/Raihan-J/Python-Spoken-Tutorial/master/Testing%20and%20Debugging/testcases.txt\n",
            "Resolving raw.githubusercontent.com (raw.githubusercontent.com)... 151.101.0.133, 151.101.64.133, 151.101.128.133, ...\n",
            "Connecting to raw.githubusercontent.com (raw.githubusercontent.com)|151.101.0.133|:443... connected.\n",
            "HTTP request sent, awaiting response... 200 OK\n",
            "Length: 34 [text/plain]\n",
            "Saving to: ‘testcases.txt’\n",
            "\n",
            "testcases.txt       100%[===================>]      34  --.-KB/s    in 0s      \n",
            "\n",
            "2020-09-11 18:37:50 (1.45 MB/s) - ‘testcases.txt’ saved [34/34]\n",
            "\n"
          ],
          "name": "stdout"
        }
      ]
    },
    {
      "cell_type": "code",
      "metadata": {
        "id": "rnpjepP1WyFW",
        "colab_type": "code",
        "colab": {
          "base_uri": "https://localhost:8080/",
          "height": 34
        },
        "outputId": "2c35e230-67d9-4ff7-bdd6-0edf7fd29ac0"
      },
      "source": [
        "%run test_gcd.py"
      ],
      "execution_count": 2,
      "outputs": [
        {
          "output_type": "stream",
          "text": [
            "Test Passed\n"
          ],
          "name": "stdout"
        }
      ]
    },
    {
      "cell_type": "code",
      "metadata": {
        "id": "3Y883wpIZJwl",
        "colab_type": "code",
        "colab": {
          "base_uri": "https://localhost:8080/",
          "height": 68
        },
        "outputId": "773004d4-c088-47ec-ab0b-b98089e8d862"
      },
      "source": [
        "%run automate_test_gcd.py"
      ],
      "execution_count": 3,
      "outputs": [
        {
          "output_type": "stream",
          "text": [
            "Test passed 4\n",
            "Test passed 18\n",
            "Test passed 2339\n"
          ],
          "name": "stdout"
        }
      ]
    },
    {
      "cell_type": "markdown",
      "metadata": {
        "id": "OFYhHPfsZh6K",
        "colab_type": "text"
      },
      "source": [
        "**Assignment-1**"
      ]
    },
    {
      "cell_type": "code",
      "metadata": {
        "id": "eMZtZnmUZlcw",
        "colab_type": "code",
        "colab": {
          "base_uri": "https://localhost:8080/",
          "height": 68
        },
        "outputId": "c7e06504-83c9-442c-e75d-746e8af6712e"
      },
      "source": [
        "%run find_lcm.py"
      ],
      "execution_count": 4,
      "outputs": [
        {
          "output_type": "stream",
          "text": [
            "Test passed 84\n",
            "Test passed 36\n",
            "Failed lcm test for 4678 39763\n"
          ],
          "name": "stdout"
        }
      ]
    }
  ]
}