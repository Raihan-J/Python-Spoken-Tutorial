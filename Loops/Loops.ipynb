{
  "nbformat": 4,
  "nbformat_minor": 0,
  "metadata": {
    "colab": {
      "name": "Loops.ipynb",
      "provenance": [],
      "authorship_tag": "ABX9TyNBLpRNZ1qqN7HMQKe4pyYM",
      "include_colab_link": true
    },
    "kernelspec": {
      "name": "python3",
      "display_name": "Python 3"
    }
  },
  "cells": [
    {
      "cell_type": "markdown",
      "metadata": {
        "id": "view-in-github",
        "colab_type": "text"
      },
      "source": [
        "<a href=\"https://colab.research.google.com/github/Raihan-J/Python-Spoken-Tutorial/blob/master/Loops/Loops.ipynb\" target=\"_parent\"><img src=\"https://colab.research.google.com/assets/colab-badge.svg\" alt=\"Open In Colab\"/></a>"
      ]
    },
    {
      "cell_type": "code",
      "metadata": {
        "id": "x6HwBmAP_HVT",
        "colab_type": "code",
        "colab": {
          "base_uri": "https://localhost:8080/",
          "height": 102
        },
        "outputId": "5e6c8b08-a4bb-462c-f129-814f05712b42"
      },
      "source": [
        "i = 1\n",
        "\n",
        "while i<10:\n",
        "    print(i*i)\n",
        "    i+=2"
      ],
      "execution_count": 1,
      "outputs": [
        {
          "output_type": "stream",
          "text": [
            "1\n",
            "9\n",
            "25\n",
            "49\n",
            "81\n"
          ],
          "name": "stdout"
        }
      ]
    },
    {
      "cell_type": "code",
      "metadata": {
        "id": "Cjs5P4dz_m5h",
        "colab_type": "code",
        "colab": {
          "base_uri": "https://localhost:8080/",
          "height": 102
        },
        "outputId": "3c18e861-c0d9-4290-9d8f-83d86de22943"
      },
      "source": [
        "for n in range(1,10,2):\n",
        "    print(n*n)"
      ],
      "execution_count": 2,
      "outputs": [
        {
          "output_type": "stream",
          "text": [
            "1\n",
            "9\n",
            "25\n",
            "49\n",
            "81\n"
          ],
          "name": "stdout"
        }
      ]
    },
    {
      "cell_type": "markdown",
      "metadata": {
        "id": "fjSwi2xa_wVP",
        "colab_type": "text"
      },
      "source": [
        "**Assignment-1**"
      ]
    },
    {
      "cell_type": "code",
      "metadata": {
        "id": "WUodIPkk_u6z",
        "colab_type": "code",
        "colab": {
          "base_uri": "https://localhost:8080/",
          "height": 85
        },
        "outputId": "fe375620-9b05-4b99-996c-2da8f76880e8"
      },
      "source": [
        "i = 2\n",
        "\n",
        "while i<10:\n",
        "    print(i*i)\n",
        "    i +=2"
      ],
      "execution_count": 3,
      "outputs": [
        {
          "output_type": "stream",
          "text": [
            "4\n",
            "16\n",
            "36\n",
            "64\n"
          ],
          "name": "stdout"
        }
      ]
    },
    {
      "cell_type": "markdown",
      "metadata": {
        "id": "W6jSoA9w_78H",
        "colab_type": "text"
      },
      "source": [
        "**Assignment-2**"
      ]
    },
    {
      "cell_type": "code",
      "metadata": {
        "id": "gUBFV6y5_7Y5",
        "colab_type": "code",
        "colab": {
          "base_uri": "https://localhost:8080/",
          "height": 85
        },
        "outputId": "7e388816-d86b-47df-bbe9-c489e692b658"
      },
      "source": [
        "for n in range(2,10,2):\n",
        "    print(n*n)"
      ],
      "execution_count": 4,
      "outputs": [
        {
          "output_type": "stream",
          "text": [
            "4\n",
            "16\n",
            "36\n",
            "64\n"
          ],
          "name": "stdout"
        }
      ]
    },
    {
      "cell_type": "markdown",
      "metadata": {
        "id": "di65hmX_AFuq",
        "colab_type": "text"
      },
      "source": [
        "////////////////////////////////////////////////////////////////////////////////"
      ]
    },
    {
      "cell_type": "code",
      "metadata": {
        "id": "eNLEDWFbAKS8",
        "colab_type": "code",
        "colab": {}
      },
      "source": [
        "for n in range(2,10,2):\n",
        "    pass"
      ],
      "execution_count": 5,
      "outputs": []
    },
    {
      "cell_type": "code",
      "metadata": {
        "id": "NqGBwo5bATzc",
        "colab_type": "code",
        "colab": {
          "base_uri": "https://localhost:8080/",
          "height": 68
        },
        "outputId": "8a8f68c5-a73d-4329-b541-6a15d579eb1c"
      },
      "source": [
        "for letter in 'python':\n",
        "    if letter == 'h':\n",
        "     break\n",
        "    print ('Current Letter :',letter)"
      ],
      "execution_count": 6,
      "outputs": [
        {
          "output_type": "stream",
          "text": [
            "Current Letter : p\n",
            "Current Letter : y\n",
            "Current Letter : t\n"
          ],
          "name": "stdout"
        }
      ]
    },
    {
      "cell_type": "code",
      "metadata": {
        "id": "tpfDkP_6BDyG",
        "colab_type": "code",
        "colab": {
          "base_uri": "https://localhost:8080/",
          "height": 68
        },
        "outputId": "cb112066-e6b6-4426-d029-22249f135ba5"
      },
      "source": [
        "for n in range(1,10,2):\n",
        "    if n % 3 == 0:\n",
        "      continue\n",
        "    print(n*n)      "
      ],
      "execution_count": 7,
      "outputs": [
        {
          "output_type": "stream",
          "text": [
            "1\n",
            "25\n",
            "49\n"
          ],
          "name": "stdout"
        }
      ]
    },
    {
      "cell_type": "markdown",
      "metadata": {
        "id": "Z7CoODhRBiz1",
        "colab_type": "text"
      },
      "source": [
        "**Assignment-3**"
      ]
    },
    {
      "cell_type": "code",
      "metadata": {
        "id": "5TGNXvoeBlxD",
        "colab_type": "code",
        "colab": {
          "base_uri": "https://localhost:8080/",
          "height": 34
        },
        "outputId": "481ad781-2f6f-4f4d-eb5f-fe6cba846388"
      },
      "source": [
        "for i in range(1,4):\n",
        "    print(i)\n",
        "    break"
      ],
      "execution_count": 8,
      "outputs": [
        {
          "output_type": "stream",
          "text": [
            "1\n"
          ],
          "name": "stdout"
        }
      ]
    }
  ]
}