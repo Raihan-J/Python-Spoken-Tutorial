{
  "nbformat": 4,
  "nbformat_minor": 0,
  "metadata": {
    "colab": {
      "name": "Parsing Data.ipynb",
      "provenance": [],
      "collapsed_sections": [],
      "authorship_tag": "ABX9TyPUeujk5ampTtwsT2TyaxZj",
      "include_colab_link": true
    },
    "kernelspec": {
      "name": "python3",
      "display_name": "Python 3"
    }
  },
  "cells": [
    {
      "cell_type": "markdown",
      "metadata": {
        "id": "view-in-github",
        "colab_type": "text"
      },
      "source": [
        "<a href=\"https://colab.research.google.com/github/Raihan-J/Python-Spoken-Tutorial/blob/master/Parsing%20Data/Parsing_Data.ipynb\" target=\"_parent\"><img src=\"https://colab.research.google.com/assets/colab-badge.svg\" alt=\"Open In Colab\"/></a>"
      ]
    },
    {
      "cell_type": "code",
      "metadata": {
        "id": "N7a1Sgo-3fYZ",
        "colab_type": "code",
        "colab": {
          "base_uri": "https://localhost:8080/",
          "height": 51
        },
        "outputId": "6b44b27c-2701-4662-91fc-362815f3d385"
      },
      "source": [
        "%pylab"
      ],
      "execution_count": null,
      "outputs": [
        {
          "output_type": "stream",
          "text": [
            "Using matplotlib backend: agg\n",
            "Populating the interactive namespace from numpy and matplotlib\n"
          ],
          "name": "stdout"
        }
      ]
    },
    {
      "cell_type": "markdown",
      "metadata": {
        "id": "VCpP8j-F6o_3",
        "colab_type": "text"
      },
      "source": [
        "**Split Function**"
      ]
    },
    {
      "cell_type": "code",
      "metadata": {
        "id": "F6dLWTFF4Bir",
        "colab_type": "code",
        "colab": {}
      },
      "source": [
        "str1 = \"Welcome To    Python Tutorials\""
      ],
      "execution_count": null,
      "outputs": []
    },
    {
      "cell_type": "code",
      "metadata": {
        "id": "rRoFu5qE4Vy-",
        "colab_type": "code",
        "colab": {
          "base_uri": "https://localhost:8080/",
          "height": 34
        },
        "outputId": "791b215d-1048-49b4-e535-39d53b0f74ae"
      },
      "source": [
        "str1.split()"
      ],
      "execution_count": null,
      "outputs": [
        {
          "output_type": "execute_result",
          "data": {
            "text/plain": [
              "['Welcome', 'To', 'Python', 'Tutorials']"
            ]
          },
          "metadata": {
            "tags": []
          },
          "execution_count": 5
        }
      ]
    },
    {
      "cell_type": "code",
      "metadata": {
        "id": "nC_VvOw54iQE",
        "colab_type": "code",
        "colab": {
          "base_uri": "https://localhost:8080/",
          "height": 34
        },
        "outputId": "c5800a45-d017-4ff1-dc32-4d278f58a468"
      },
      "source": [
        "x = \"08-26-2009;08-27-2009;08-27-2009\"\n",
        "x.split(';')"
      ],
      "execution_count": null,
      "outputs": [
        {
          "output_type": "execute_result",
          "data": {
            "text/plain": [
              "['08-26-2009', '08-27-2009', '08-27-2009']"
            ]
          },
          "metadata": {
            "tags": []
          },
          "execution_count": 6
        }
      ]
    },
    {
      "cell_type": "markdown",
      "metadata": {
        "id": "J32b3Y0O-8Vg",
        "colab_type": "text"
      },
      "source": [
        "**Assignment-1**"
      ]
    },
    {
      "cell_type": "code",
      "metadata": {
        "id": "D4pyjkBT4xVB",
        "colab_type": "code",
        "colab": {
          "base_uri": "https://localhost:8080/",
          "height": 34
        },
        "outputId": "a2fa7768-24b7-4da4-8890-5f3d6c98fc87"
      },
      "source": [
        "b = x.split()\n",
        "c = x.split(' ')\n",
        "b"
      ],
      "execution_count": null,
      "outputs": [
        {
          "output_type": "execute_result",
          "data": {
            "text/plain": [
              "['08-26-2009;08-27-2009;08-27-2009']"
            ]
          },
          "metadata": {
            "tags": []
          },
          "execution_count": 7
        }
      ]
    },
    {
      "cell_type": "markdown",
      "metadata": {
        "id": "NCFLBs2l_jO4",
        "colab_type": "text"
      },
      "source": [
        "xxxxxxxxxxxxxxxxxxxxxxxxxxxxxxxxxxxxxxxxx"
      ]
    },
    {
      "cell_type": "code",
      "metadata": {
        "id": "LSJ_h12D7CnC",
        "colab_type": "code",
        "colab": {
          "base_uri": "https://localhost:8080/",
          "height": 34
        },
        "outputId": "17e059e4-dfe2-419b-8d1a-de551f0f15e8"
      },
      "source": [
        "d = str1.split()\n",
        "e = str1.split(' ')\n",
        "d"
      ],
      "execution_count": null,
      "outputs": [
        {
          "output_type": "execute_result",
          "data": {
            "text/plain": [
              "['Welcome', 'To', 'Python', 'Tutorials']"
            ]
          },
          "metadata": {
            "tags": []
          },
          "execution_count": 16
        }
      ]
    },
    {
      "cell_type": "code",
      "metadata": {
        "id": "SCCor_Sc82Cy",
        "colab_type": "code",
        "colab": {
          "base_uri": "https://localhost:8080/",
          "height": 34
        },
        "outputId": "1b412ee8-85e0-4779-d287-ebe156c25cd9"
      },
      "source": [
        "e"
      ],
      "execution_count": null,
      "outputs": [
        {
          "output_type": "execute_result",
          "data": {
            "text/plain": [
              "['Welcome', 'To', '', '', '', 'Python', 'Tutorials']"
            ]
          },
          "metadata": {
            "tags": []
          },
          "execution_count": 17
        }
      ]
    },
    {
      "cell_type": "markdown",
      "metadata": {
        "id": "kVLF5neq9T3F",
        "colab_type": "text"
      },
      "source": [
        "**Strip Function**"
      ]
    },
    {
      "cell_type": "code",
      "metadata": {
        "id": "9Se7T_OJ9CDl",
        "colab_type": "code",
        "colab": {
          "base_uri": "https://localhost:8080/",
          "height": 35
        },
        "outputId": "d8a360da-52c3-4004-e2d7-2cd94cef3d70"
      },
      "source": [
        "unstripped = \" Hello World \"\n",
        "unstripped.strip()"
      ],
      "execution_count": null,
      "outputs": [
        {
          "output_type": "execute_result",
          "data": {
            "application/vnd.google.colaboratory.intrinsic+json": {
              "type": "string"
            },
            "text/plain": [
              "'Hello World'"
            ]
          },
          "metadata": {
            "tags": []
          },
          "execution_count": 18
        }
      ]
    },
    {
      "cell_type": "code",
      "metadata": {
        "id": "sMIKKB_B9SnF",
        "colab_type": "code",
        "colab": {
          "base_uri": "https://localhost:8080/",
          "height": 34
        },
        "outputId": "bd2eb331-e4d5-4c35-c526-ea54171bf978"
      },
      "source": [
        "mark_str = \"1.25\"\n",
        "mark = float(mark_str)\n",
        "type(mark_str)"
      ],
      "execution_count": null,
      "outputs": [
        {
          "output_type": "execute_result",
          "data": {
            "text/plain": [
              "str"
            ]
          },
          "metadata": {
            "tags": []
          },
          "execution_count": 20
        }
      ]
    },
    {
      "cell_type": "code",
      "metadata": {
        "id": "pXSGsWYo9uGY",
        "colab_type": "code",
        "colab": {
          "base_uri": "https://localhost:8080/",
          "height": 34
        },
        "outputId": "38246d9e-9b63-48a0-b469-9aea89cb7c4c"
      },
      "source": [
        "type(mark)"
      ],
      "execution_count": null,
      "outputs": [
        {
          "output_type": "execute_result",
          "data": {
            "text/plain": [
              "float"
            ]
          },
          "metadata": {
            "tags": []
          },
          "execution_count": 21
        }
      ]
    },
    {
      "cell_type": "markdown",
      "metadata": {
        "id": "_rqFWm3B-IN-",
        "colab_type": "text"
      },
      "source": [
        "**Assignment-2**"
      ]
    },
    {
      "cell_type": "code",
      "metadata": {
        "id": "UOg0lmdH9yu0",
        "colab_type": "code",
        "colab": {
          "base_uri": "https://localhost:8080/",
          "height": 34
        },
        "outputId": "547c350b-b080-41ec-b088-1b4755325de3"
      },
      "source": [
        "dcml_str = \"1.25\"\n",
        "flt = float(dcml_str)\n",
        "flt"
      ],
      "execution_count": null,
      "outputs": [
        {
          "output_type": "execute_result",
          "data": {
            "text/plain": [
              "1.25"
            ]
          },
          "metadata": {
            "tags": []
          },
          "execution_count": 22
        }
      ]
    },
    {
      "cell_type": "code",
      "metadata": {
        "id": "04FwSSVv-hHI",
        "colab_type": "code",
        "colab": {
          "base_uri": "https://localhost:8080/",
          "height": 34
        },
        "outputId": "e81e33f8-21b1-447a-947c-9e2535e4f128"
      },
      "source": [
        "number = int(flt)\n",
        "number"
      ],
      "execution_count": null,
      "outputs": [
        {
          "output_type": "execute_result",
          "data": {
            "text/plain": [
              "1"
            ]
          },
          "metadata": {
            "tags": []
          },
          "execution_count": 23
        }
      ]
    },
    {
      "cell_type": "markdown",
      "metadata": {
        "id": "C15rcopc-p5c",
        "colab_type": "text"
      },
      "source": [
        "xxxxxxxxxxxxxxxxxxxxxxxxxxxxxxxxxxxxxxxxx"
      ]
    },
    {
      "cell_type": "markdown",
      "metadata": {
        "id": "vpB5RCcV__vI",
        "colab_type": "text"
      },
      "source": [
        "**Using Data File To Transfer Data**"
      ]
    },
    {
      "cell_type": "code",
      "metadata": {
        "id": "NqiaGtiL_7Qh",
        "colab_type": "code",
        "colab": {
          "base_uri": "https://localhost:8080/",
          "height": 391
        },
        "outputId": "3825d486-b895-444b-88a9-efce8ab1b7c8"
      },
      "source": [
        "!wget https://raw.githubusercontent.com/Raihan-J/Python-Spoken-Tutorial/master/Parsing%20Data/marks.py\n",
        "!wget https://raw.githubusercontent.com/Raihan-J/Python-Spoken-Tutorial/master/Parsing%20Data/student_record.txt"
      ],
      "execution_count": 60,
      "outputs": [
        {
          "output_type": "stream",
          "text": [
            "--2020-09-01 19:37:15--  https://raw.githubusercontent.com/Raihan-J/Python-Spoken-Tutorial/master/Parsing%20Data/marks.py\n",
            "Resolving raw.githubusercontent.com (raw.githubusercontent.com)... 151.101.0.133, 151.101.64.133, 151.101.128.133, ...\n",
            "Connecting to raw.githubusercontent.com (raw.githubusercontent.com)|151.101.0.133|:443... connected.\n",
            "HTTP request sent, awaiting response... 200 OK\n",
            "Length: 357 [text/plain]\n",
            "Saving to: ‘marks.py’\n",
            "\n",
            "\rmarks.py              0%[                    ]       0  --.-KB/s               \rmarks.py            100%[===================>]     357  --.-KB/s    in 0s      \n",
            "\n",
            "2020-09-01 19:37:15 (10.3 MB/s) - ‘marks.py’ saved [357/357]\n",
            "\n",
            "--2020-09-01 19:37:16--  https://raw.githubusercontent.com/Raihan-J/Python-Spoken-Tutorial/master/Parsing%20Data/student_record.txt\n",
            "Resolving raw.githubusercontent.com (raw.githubusercontent.com)... 151.101.0.133, 151.101.64.133, 151.101.128.133, ...\n",
            "Connecting to raw.githubusercontent.com (raw.githubusercontent.com)|151.101.0.133|:443... connected.\n",
            "HTTP request sent, awaiting response... 200 OK\n",
            "Length: 7970626 (7.6M) [text/plain]\n",
            "Saving to: ‘student_record.txt’\n",
            "\n",
            "student_record.txt  100%[===================>]   7.60M  47.9MB/s    in 0.2s    \n",
            "\n",
            "2020-09-01 19:37:16 (47.9 MB/s) - ‘student_record.txt’ saved [7970626/7970626]\n",
            "\n"
          ],
          "name": "stdout"
        }
      ]
    },
    {
      "cell_type": "code",
      "metadata": {
        "id": "Kw1PVMFhJvcv",
        "colab_type": "code",
        "colab": {
          "base_uri": "https://localhost:8080/",
          "height": 34
        },
        "outputId": "3652f8c8-f9ee-4aa2-807d-b0de40111b8d"
      },
      "source": [
        "%run marks.py"
      ],
      "execution_count": 61,
      "outputs": [
        {
          "output_type": "stream",
          "text": [
            "2297949.0\n"
          ],
          "name": "stdout"
        }
      ]
    }
  ]
}