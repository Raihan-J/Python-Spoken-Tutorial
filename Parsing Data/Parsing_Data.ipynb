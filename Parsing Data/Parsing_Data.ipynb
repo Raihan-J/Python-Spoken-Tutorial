{
  "nbformat": 4,
  "nbformat_minor": 0,
  "metadata": {
    "colab": {
      "name": "Parsing Data.ipynb",
      "provenance": [],
      "collapsed_sections": [],
      "authorship_tag": "ABX9TyOl1MoP4GfI1CX8Op0a0oF0",
      "include_colab_link": true
    },
    "kernelspec": {
      "name": "python3",
      "display_name": "Python 3"
    }
  },
  "cells": [
    {
      "cell_type": "markdown",
      "metadata": {
        "id": "view-in-github",
        "colab_type": "text"
      },
      "source": [
        "<a href=\"https://colab.research.google.com/github/Raihan-J/Python-Spoken-Tutorial/blob/master/Parsing%20Data/Parsing_Data.ipynb\" target=\"_parent\"><img src=\"https://colab.research.google.com/assets/colab-badge.svg\" alt=\"Open In Colab\"/></a>"
      ]
    },
    {
      "cell_type": "code",
      "metadata": {
        "id": "N7a1Sgo-3fYZ",
        "colab_type": "code",
        "colab": {
          "base_uri": "https://localhost:8080/",
          "height": 51
        },
        "outputId": "bbe27d44-924f-4258-9b28-c84cb8936b02"
      },
      "source": [
        "%pylab"
      ],
      "execution_count": 1,
      "outputs": [
        {
          "output_type": "stream",
          "text": [
            "Using matplotlib backend: agg\n",
            "Populating the interactive namespace from numpy and matplotlib\n"
          ],
          "name": "stdout"
        }
      ]
    },
    {
      "cell_type": "markdown",
      "metadata": {
        "id": "VCpP8j-F6o_3",
        "colab_type": "text"
      },
      "source": [
        "**Split Function**"
      ]
    },
    {
      "cell_type": "code",
      "metadata": {
        "id": "F6dLWTFF4Bir",
        "colab_type": "code",
        "colab": {}
      },
      "source": [
        "str1 = \"Welcome To    Python Tutorials\""
      ],
      "execution_count": 2,
      "outputs": []
    },
    {
      "cell_type": "code",
      "metadata": {
        "id": "rRoFu5qE4Vy-",
        "colab_type": "code",
        "colab": {
          "base_uri": "https://localhost:8080/",
          "height": 34
        },
        "outputId": "aded0e73-2869-4f3c-aaad-8963868939c6"
      },
      "source": [
        "str1.split()"
      ],
      "execution_count": 3,
      "outputs": [
        {
          "output_type": "execute_result",
          "data": {
            "text/plain": [
              "['Welcome', 'To', 'Python', 'Tutorials']"
            ]
          },
          "metadata": {
            "tags": []
          },
          "execution_count": 3
        }
      ]
    },
    {
      "cell_type": "code",
      "metadata": {
        "id": "nC_VvOw54iQE",
        "colab_type": "code",
        "colab": {
          "base_uri": "https://localhost:8080/",
          "height": 34
        },
        "outputId": "3d7d0023-f401-4ce8-de57-e2ebd6128159"
      },
      "source": [
        "x = \"08-26-2009;08-27-2009;08-27-2009\"\n",
        "x.split(';')"
      ],
      "execution_count": 4,
      "outputs": [
        {
          "output_type": "execute_result",
          "data": {
            "text/plain": [
              "['08-26-2009', '08-27-2009', '08-27-2009']"
            ]
          },
          "metadata": {
            "tags": []
          },
          "execution_count": 4
        }
      ]
    },
    {
      "cell_type": "markdown",
      "metadata": {
        "id": "J32b3Y0O-8Vg",
        "colab_type": "text"
      },
      "source": [
        "**Assignment-1**"
      ]
    },
    {
      "cell_type": "code",
      "metadata": {
        "id": "D4pyjkBT4xVB",
        "colab_type": "code",
        "colab": {
          "base_uri": "https://localhost:8080/",
          "height": 34
        },
        "outputId": "baa627ff-a91a-40af-e55f-9d24891fd4eb"
      },
      "source": [
        "b = x.split()\n",
        "c = x.split(' ')\n",
        "b"
      ],
      "execution_count": 5,
      "outputs": [
        {
          "output_type": "execute_result",
          "data": {
            "text/plain": [
              "['08-26-2009;08-27-2009;08-27-2009']"
            ]
          },
          "metadata": {
            "tags": []
          },
          "execution_count": 5
        }
      ]
    },
    {
      "cell_type": "markdown",
      "metadata": {
        "id": "NCFLBs2l_jO4",
        "colab_type": "text"
      },
      "source": [
        "xxxxxxxxxxxxxxxxxxxxxxxxxxxxxxxxxxxxxxxxx"
      ]
    },
    {
      "cell_type": "code",
      "metadata": {
        "id": "LSJ_h12D7CnC",
        "colab_type": "code",
        "colab": {
          "base_uri": "https://localhost:8080/",
          "height": 34
        },
        "outputId": "d065ea03-08ea-4182-fd37-997681f57fe1"
      },
      "source": [
        "d = str1.split()\n",
        "e = str1.split(' ')\n",
        "d"
      ],
      "execution_count": 6,
      "outputs": [
        {
          "output_type": "execute_result",
          "data": {
            "text/plain": [
              "['Welcome', 'To', 'Python', 'Tutorials']"
            ]
          },
          "metadata": {
            "tags": []
          },
          "execution_count": 6
        }
      ]
    },
    {
      "cell_type": "code",
      "metadata": {
        "id": "SCCor_Sc82Cy",
        "colab_type": "code",
        "colab": {
          "base_uri": "https://localhost:8080/",
          "height": 34
        },
        "outputId": "5c962ea4-8113-4cad-b96f-2336150a2855"
      },
      "source": [
        "e"
      ],
      "execution_count": 7,
      "outputs": [
        {
          "output_type": "execute_result",
          "data": {
            "text/plain": [
              "['Welcome', 'To', '', '', '', 'Python', 'Tutorials']"
            ]
          },
          "metadata": {
            "tags": []
          },
          "execution_count": 7
        }
      ]
    },
    {
      "cell_type": "markdown",
      "metadata": {
        "id": "kVLF5neq9T3F",
        "colab_type": "text"
      },
      "source": [
        "**Strip Function**"
      ]
    },
    {
      "cell_type": "code",
      "metadata": {
        "id": "9Se7T_OJ9CDl",
        "colab_type": "code",
        "colab": {
          "base_uri": "https://localhost:8080/",
          "height": 35
        },
        "outputId": "b3e7fbb0-b8a6-4e03-a284-de1e50b6e2b4"
      },
      "source": [
        "unstripped = \" Hello World \"\n",
        "unstripped.strip()"
      ],
      "execution_count": 8,
      "outputs": [
        {
          "output_type": "execute_result",
          "data": {
            "application/vnd.google.colaboratory.intrinsic+json": {
              "type": "string"
            },
            "text/plain": [
              "'Hello World'"
            ]
          },
          "metadata": {
            "tags": []
          },
          "execution_count": 8
        }
      ]
    },
    {
      "cell_type": "code",
      "metadata": {
        "id": "sMIKKB_B9SnF",
        "colab_type": "code",
        "colab": {
          "base_uri": "https://localhost:8080/",
          "height": 34
        },
        "outputId": "f7c127ef-d289-4176-fe51-335a23aa8645"
      },
      "source": [
        "mark_str = \"1.25\"\n",
        "mark = float(mark_str)\n",
        "type(mark_str)"
      ],
      "execution_count": 9,
      "outputs": [
        {
          "output_type": "execute_result",
          "data": {
            "text/plain": [
              "str"
            ]
          },
          "metadata": {
            "tags": []
          },
          "execution_count": 9
        }
      ]
    },
    {
      "cell_type": "code",
      "metadata": {
        "id": "pXSGsWYo9uGY",
        "colab_type": "code",
        "colab": {
          "base_uri": "https://localhost:8080/",
          "height": 34
        },
        "outputId": "c3c1ef0b-487d-46ab-ed04-af424b832527"
      },
      "source": [
        "type(mark)"
      ],
      "execution_count": 10,
      "outputs": [
        {
          "output_type": "execute_result",
          "data": {
            "text/plain": [
              "float"
            ]
          },
          "metadata": {
            "tags": []
          },
          "execution_count": 10
        }
      ]
    },
    {
      "cell_type": "markdown",
      "metadata": {
        "id": "_rqFWm3B-IN-",
        "colab_type": "text"
      },
      "source": [
        "**Assignment-2**"
      ]
    },
    {
      "cell_type": "code",
      "metadata": {
        "id": "UOg0lmdH9yu0",
        "colab_type": "code",
        "colab": {
          "base_uri": "https://localhost:8080/",
          "height": 34
        },
        "outputId": "3d95a84f-94b4-46a5-ad45-5f86b781f026"
      },
      "source": [
        "dcml_str = \"1.25\"\n",
        "flt = float(dcml_str)\n",
        "flt"
      ],
      "execution_count": 11,
      "outputs": [
        {
          "output_type": "execute_result",
          "data": {
            "text/plain": [
              "1.25"
            ]
          },
          "metadata": {
            "tags": []
          },
          "execution_count": 11
        }
      ]
    },
    {
      "cell_type": "code",
      "metadata": {
        "id": "04FwSSVv-hHI",
        "colab_type": "code",
        "colab": {
          "base_uri": "https://localhost:8080/",
          "height": 34
        },
        "outputId": "398013ed-0c13-4906-ac42-0846f80bbc4a"
      },
      "source": [
        "number = int(flt)\n",
        "number"
      ],
      "execution_count": 12,
      "outputs": [
        {
          "output_type": "execute_result",
          "data": {
            "text/plain": [
              "1"
            ]
          },
          "metadata": {
            "tags": []
          },
          "execution_count": 12
        }
      ]
    },
    {
      "cell_type": "markdown",
      "metadata": {
        "id": "C15rcopc-p5c",
        "colab_type": "text"
      },
      "source": [
        "xxxxxxxxxxxxxxxxxxxxxxxxxxxxxxxxxxxxxxxxx"
      ]
    },
    {
      "cell_type": "markdown",
      "metadata": {
        "id": "vpB5RCcV__vI",
        "colab_type": "text"
      },
      "source": [
        "**Using Data File To Transfer Data**"
      ]
    },
    {
      "cell_type": "code",
      "metadata": {
        "id": "NqiaGtiL_7Qh",
        "colab_type": "code",
        "colab": {
          "base_uri": "https://localhost:8080/",
          "height": 425
        },
        "outputId": "328644f2-23dc-47de-8256-c16d10428f15"
      },
      "source": [
        "!rm marks.*\n",
        "!wget https://raw.githubusercontent.com/Raihan-J/Python-Spoken-Tutorial/master/Parsing%20Data/marks.py\n",
        "!rm student_record.*\n",
        "!wget https://raw.githubusercontent.com/Raihan-J/Python-Spoken-Tutorial/master/Parsing%20Data/student_record.txt"
      ],
      "execution_count": 13,
      "outputs": [
        {
          "output_type": "stream",
          "text": [
            "rm: cannot remove 'marks.*': No such file or directory\n",
            "--2020-09-01 21:11:22--  https://raw.githubusercontent.com/Raihan-J/Python-Spoken-Tutorial/master/Parsing%20Data/marks.py\n",
            "Resolving raw.githubusercontent.com (raw.githubusercontent.com)... 151.101.0.133, 151.101.64.133, 151.101.128.133, ...\n",
            "Connecting to raw.githubusercontent.com (raw.githubusercontent.com)|151.101.0.133|:443... connected.\n",
            "HTTP request sent, awaiting response... 200 OK\n",
            "Length: 357 [text/plain]\n",
            "Saving to: ‘marks.py’\n",
            "\n",
            "marks.py            100%[===================>]     357  --.-KB/s    in 0s      \n",
            "\n",
            "2020-09-01 21:11:22 (16.6 MB/s) - ‘marks.py’ saved [357/357]\n",
            "\n",
            "rm: cannot remove 'student_record.*': No such file or directory\n",
            "--2020-09-01 21:11:22--  https://raw.githubusercontent.com/Raihan-J/Python-Spoken-Tutorial/master/Parsing%20Data/student_record.txt\n",
            "Resolving raw.githubusercontent.com (raw.githubusercontent.com)... 151.101.0.133, 151.101.64.133, 151.101.128.133, ...\n",
            "Connecting to raw.githubusercontent.com (raw.githubusercontent.com)|151.101.0.133|:443... connected.\n",
            "HTTP request sent, awaiting response... 200 OK\n",
            "Length: 7970626 (7.6M) [text/plain]\n",
            "Saving to: ‘student_record.txt’\n",
            "\n",
            "student_record.txt  100%[===================>]   7.60M  26.4MB/s    in 0.3s    \n",
            "\n",
            "2020-09-01 21:11:23 (26.4 MB/s) - ‘student_record.txt’ saved [7970626/7970626]\n",
            "\n"
          ],
          "name": "stdout"
        }
      ]
    },
    {
      "cell_type": "code",
      "metadata": {
        "id": "Kw1PVMFhJvcv",
        "colab_type": "code",
        "colab": {
          "base_uri": "https://localhost:8080/",
          "height": 34
        },
        "outputId": "c4c24403-4329-49c9-82bc-131028e25bab"
      },
      "source": [
        "%run marks.py"
      ],
      "execution_count": 14,
      "outputs": [
        {
          "output_type": "stream",
          "text": [
            "2297949.0\n"
          ],
          "name": "stdout"
        }
      ]
    }
  ]
}