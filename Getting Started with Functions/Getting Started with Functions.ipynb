{
  "nbformat": 4,
  "nbformat_minor": 0,
  "metadata": {
    "colab": {
      "name": "Getting Started with Functions.ipynb",
      "provenance": [],
      "authorship_tag": "ABX9TyMo+9csoLeiV69vVaeV0J/P",
      "include_colab_link": true
    },
    "kernelspec": {
      "name": "python3",
      "display_name": "Python 3"
    }
  },
  "cells": [
    {
      "cell_type": "markdown",
      "metadata": {
        "id": "view-in-github",
        "colab_type": "text"
      },
      "source": [
        "<a href=\"https://colab.research.google.com/github/Raihan-J/Python-Spoken-Tutorial/blob/master/Getting%20Started%20with%20Functions/Getting%20Started%20with%20Functions.ipynb\" target=\"_parent\"><img src=\"https://colab.research.google.com/assets/colab-badge.svg\" alt=\"Open In Colab\"/></a>"
      ]
    },
    {
      "cell_type": "code",
      "metadata": {
        "id": "MRJsNcMOl46N",
        "colab_type": "code",
        "colab": {}
      },
      "source": [
        "def f(x):\n",
        "    return x*x"
      ],
      "execution_count": 1,
      "outputs": []
    },
    {
      "cell_type": "code",
      "metadata": {
        "id": "XK25Nq5zrDbl",
        "colab_type": "code",
        "colab": {
          "base_uri": "https://localhost:8080/",
          "height": 34
        },
        "outputId": "50b39742-e5d9-4ed8-f27e-11f7df6ab6bf"
      },
      "source": [
        "f(2)"
      ],
      "execution_count": 2,
      "outputs": [
        {
          "output_type": "execute_result",
          "data": {
            "text/plain": [
              "4"
            ]
          },
          "metadata": {
            "tags": []
          },
          "execution_count": 2
        }
      ]
    },
    {
      "cell_type": "code",
      "metadata": {
        "id": "mLbbKH2JrFAQ",
        "colab_type": "code",
        "colab": {
          "base_uri": "https://localhost:8080/",
          "height": 34
        },
        "outputId": "07f84b55-77a3-4d0a-a467-6aa712112376"
      },
      "source": [
        "f(2.5)"
      ],
      "execution_count": 3,
      "outputs": [
        {
          "output_type": "execute_result",
          "data": {
            "text/plain": [
              "6.25"
            ]
          },
          "metadata": {
            "tags": []
          },
          "execution_count": 3
        }
      ]
    },
    {
      "cell_type": "code",
      "metadata": {
        "id": "KXVMe7l5rHg0",
        "colab_type": "code",
        "colab": {}
      },
      "source": [
        "def greet():\n",
        "    print(\"No Function arguments\")"
      ],
      "execution_count": 4,
      "outputs": []
    },
    {
      "cell_type": "code",
      "metadata": {
        "id": "H1_PDJmlrRhQ",
        "colab_type": "code",
        "colab": {
          "base_uri": "https://localhost:8080/",
          "height": 34
        },
        "outputId": "69729871-8d3b-45c3-8782-c998bea8f4c8"
      },
      "source": [
        "greet()"
      ],
      "execution_count": 5,
      "outputs": [
        {
          "output_type": "stream",
          "text": [
            "No Function arguments\n"
          ],
          "name": "stdout"
        }
      ]
    },
    {
      "cell_type": "code",
      "metadata": {
        "id": "m9yF8C0grVVu",
        "colab_type": "code",
        "colab": {}
      },
      "source": [
        "def avg(a,b):\n",
        "    \"\"\"avg takes two numnbers as input and returns the average\"\"\"\n",
        "    return(a+b)/2.0"
      ],
      "execution_count": 6,
      "outputs": []
    },
    {
      "cell_type": "code",
      "metadata": {
        "id": "CcHtfPpVrw52",
        "colab_type": "code",
        "colab": {}
      },
      "source": [
        "avg?"
      ],
      "execution_count": 7,
      "outputs": []
    },
    {
      "cell_type": "code",
      "metadata": {
        "id": "4xgimSyvr2jj",
        "colab_type": "code",
        "colab": {
          "base_uri": "https://localhost:8080/",
          "height": 34
        },
        "outputId": "62c25c3a-3c29-47ae-a4cf-f5bea414c3da"
      },
      "source": [
        "avg(3,5)"
      ],
      "execution_count": 8,
      "outputs": [
        {
          "output_type": "execute_result",
          "data": {
            "text/plain": [
              "4.0"
            ]
          },
          "metadata": {
            "tags": []
          },
          "execution_count": 8
        }
      ]
    },
    {
      "cell_type": "markdown",
      "metadata": {
        "id": "u0EbORlfr5vq",
        "colab_type": "text"
      },
      "source": [
        "**Assignment-1**"
      ]
    },
    {
      "cell_type": "code",
      "metadata": {
        "id": "XY9x7vznr5I9",
        "colab_type": "code",
        "colab": {}
      },
      "source": [
        "def circle(r):\n",
        "    \"\"\"returns area and perimeter of a circle given radius r\"\"\"\n",
        "    pi = 3.14\n",
        "    area = pi*r*r\n",
        "    perimeter = 2*pi*r\n",
        "    return area,perimeter"
      ],
      "execution_count": 9,
      "outputs": []
    },
    {
      "cell_type": "code",
      "metadata": {
        "id": "pSi-fEjlsWO1",
        "colab_type": "code",
        "colab": {
          "base_uri": "https://localhost:8080/",
          "height": 34
        },
        "outputId": "bdba8995-e31a-40ff-cbe7-fa053e65cfb3"
      },
      "source": [
        "a,p = circle(6)\n",
        "print(a,p)"
      ],
      "execution_count": 10,
      "outputs": [
        {
          "output_type": "stream",
          "text": [
            "113.03999999999999 37.68\n"
          ],
          "name": "stdout"
        }
      ]
    }
  ]
}