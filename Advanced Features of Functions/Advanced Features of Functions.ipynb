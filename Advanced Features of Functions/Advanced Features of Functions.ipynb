{
  "nbformat": 4,
  "nbformat_minor": 0,
  "metadata": {
    "colab": {
      "name": "Advanced Features of Functions.ipynb",
      "provenance": [],
      "authorship_tag": "ABX9TyNM+sYecit0ekUOTJ5/SVPO",
      "include_colab_link": true
    },
    "kernelspec": {
      "name": "python3",
      "display_name": "Python 3"
    }
  },
  "cells": [
    {
      "cell_type": "markdown",
      "metadata": {
        "id": "view-in-github",
        "colab_type": "text"
      },
      "source": [
        "<a href=\"https://colab.research.google.com/github/Raihan-J/Python-Spoken-Tutorial/blob/master/Advanced%20Features%20of%20Functions/Advanced%20Features%20of%20Functions.ipynb\" target=\"_parent\"><img src=\"https://colab.research.google.com/assets/colab-badge.svg\" alt=\"Open In Colab\"/></a>"
      ]
    },
    {
      "cell_type": "code",
      "metadata": {
        "id": "iThLSxL-tBJB",
        "colab_type": "code",
        "colab": {}
      },
      "source": [
        "def welcome(greet,name=\"World\"):\n",
        "    print(greet,name)"
      ],
      "execution_count": 1,
      "outputs": []
    },
    {
      "cell_type": "code",
      "metadata": {
        "id": "fVPC-PAw8jHO",
        "colab_type": "code",
        "colab": {
          "base_uri": "https://localhost:8080/",
          "height": 34
        },
        "outputId": "feeb9224-5115-4863-8f64-7113c4910934"
      },
      "source": [
        "welcome(\"Hi\",\"Chandru\")"
      ],
      "execution_count": 2,
      "outputs": [
        {
          "output_type": "stream",
          "text": [
            "Hi Chandru\n"
          ],
          "name": "stdout"
        }
      ]
    },
    {
      "cell_type": "code",
      "metadata": {
        "id": "tzbOdzJC8ui3",
        "colab_type": "code",
        "colab": {
          "base_uri": "https://localhost:8080/",
          "height": 34
        },
        "outputId": "3395bc70-dcec-4983-ece8-89a6d4f0df48"
      },
      "source": [
        "welcome(\"Hello\")"
      ],
      "execution_count": 3,
      "outputs": [
        {
          "output_type": "stream",
          "text": [
            "Hello World\n"
          ],
          "name": "stdout"
        }
      ]
    },
    {
      "cell_type": "code",
      "metadata": {
        "id": "2aJ803rr8ymU",
        "colab_type": "code",
        "colab": {}
      },
      "source": [
        "def welcome(greet,age = 23,name = \"World\"):\n",
        "    print(greet,name,age)"
      ],
      "execution_count": 4,
      "outputs": []
    },
    {
      "cell_type": "code",
      "metadata": {
        "id": "k0hjP6m39KqO",
        "colab_type": "code",
        "colab": {
          "base_uri": "https://localhost:8080/",
          "height": 34
        },
        "outputId": "e25d450f-60d1-4209-998c-eace0d5006f0"
      },
      "source": [
        "welcome(\"Hello\")"
      ],
      "execution_count": 5,
      "outputs": [
        {
          "output_type": "stream",
          "text": [
            "Hello World 23\n"
          ],
          "name": "stdout"
        }
      ]
    },
    {
      "cell_type": "markdown",
      "metadata": {
        "id": "zChWX47K9vmS",
        "colab_type": "text"
      },
      "source": [
        "**Assignment-2**"
      ]
    },
    {
      "cell_type": "code",
      "metadata": {
        "id": "J7WUZ9Sa9ywS",
        "colab_type": "code",
        "colab": {}
      },
      "source": [
        "def welcome(greet=\"Hello\", name = \"World\"):\n",
        "    print(greet,name)"
      ],
      "execution_count": 6,
      "outputs": []
    },
    {
      "cell_type": "code",
      "metadata": {
        "id": "uyW8vQJQ966d",
        "colab_type": "code",
        "colab": {
          "base_uri": "https://localhost:8080/",
          "height": 34
        },
        "outputId": "ad7b60aa-e5a8-46ad-fc05-068a15d1140d"
      },
      "source": [
        "welcome()"
      ],
      "execution_count": 7,
      "outputs": [
        {
          "output_type": "stream",
          "text": [
            "Hello World\n"
          ],
          "name": "stdout"
        }
      ]
    },
    {
      "cell_type": "markdown",
      "metadata": {
        "id": "1JlEKSJa-EiA",
        "colab_type": "text"
      },
      "source": [
        "xxxxxxxxxxxxxxxxxxxxxxxxxxxxxxxxxxxxxxxxxxxxxxxxxxxxxxxxxxxxxxxxxxxxxxxxxxxxxxxx"
      ]
    },
    {
      "cell_type": "code",
      "metadata": {
        "id": "Jli0DyHu9--j",
        "colab_type": "code",
        "colab": {}
      },
      "source": [
        "def marks(first,second,third):\n",
        "    print(\"first: %d second: %d and third: %d\" %(first,second,third))"
      ],
      "execution_count": 8,
      "outputs": []
    },
    {
      "cell_type": "code",
      "metadata": {
        "id": "uGPUaiMa-baL",
        "colab_type": "code",
        "colab": {
          "base_uri": "https://localhost:8080/",
          "height": 34
        },
        "outputId": "58d0c58e-183e-4f30-c236-b73091db79c1"
      },
      "source": [
        "marks(34,23,45)"
      ],
      "execution_count": 9,
      "outputs": [
        {
          "output_type": "stream",
          "text": [
            "first: 34 second: 23 and third: 45\n"
          ],
          "name": "stdout"
        }
      ]
    },
    {
      "cell_type": "code",
      "metadata": {
        "id": "kKksyEnt-orO",
        "colab_type": "code",
        "colab": {
          "base_uri": "https://localhost:8080/",
          "height": 34
        },
        "outputId": "2278dcae-e063-46ce-f116-cf1daccd2df6"
      },
      "source": [
        "marks(34,45,23)"
      ],
      "execution_count": 10,
      "outputs": [
        {
          "output_type": "stream",
          "text": [
            "first: 34 second: 45 and third: 23\n"
          ],
          "name": "stdout"
        }
      ]
    },
    {
      "cell_type": "code",
      "metadata": {
        "id": "8K1J-wju-teF",
        "colab_type": "code",
        "colab": {
          "base_uri": "https://localhost:8080/",
          "height": 34
        },
        "outputId": "5d3fdbe3-2594-4f63-cd3f-d3bf5e2fdb62"
      },
      "source": [
        "marks(34,23,third=45)"
      ],
      "execution_count": 11,
      "outputs": [
        {
          "output_type": "stream",
          "text": [
            "first: 34 second: 23 and third: 45\n"
          ],
          "name": "stdout"
        }
      ]
    },
    {
      "cell_type": "code",
      "metadata": {
        "id": "k3v063Kv-0XC",
        "colab_type": "code",
        "colab": {
          "base_uri": "https://localhost:8080/",
          "height": 34
        },
        "outputId": "18e54708-3f5d-45b3-ce57-9f242c07dc0f"
      },
      "source": [
        "marks(second=34,first=23,third=45)"
      ],
      "execution_count": 12,
      "outputs": [
        {
          "output_type": "stream",
          "text": [
            "first: 23 second: 34 and third: 45\n"
          ],
          "name": "stdout"
        }
      ]
    },
    {
      "cell_type": "code",
      "metadata": {
        "id": "s7add5By_Kcj",
        "colab_type": "code",
        "colab": {}
      },
      "source": [
        "def marks(*,first,second,third):\n",
        "    print(\"first: %d second: %d and third: %d\" %(first,second,third))"
      ],
      "execution_count": 13,
      "outputs": []
    },
    {
      "cell_type": "code",
      "metadata": {
        "id": "bwRfZy8k_P8X",
        "colab_type": "code",
        "colab": {
          "base_uri": "https://localhost:8080/",
          "height": 34
        },
        "outputId": "73085108-481e-4200-b07c-0c0ca5c655a5"
      },
      "source": [
        "marks(second=34,first=23,third=45)"
      ],
      "execution_count": 14,
      "outputs": [
        {
          "output_type": "stream",
          "text": [
            "first: 23 second: 34 and third: 45\n"
          ],
          "name": "stdout"
        }
      ]
    },
    {
      "cell_type": "code",
      "metadata": {
        "id": "teQj8qhn_hJN",
        "colab_type": "code",
        "colab": {}
      },
      "source": [
        "def person(**attributes):\n",
        "    print(attributes)"
      ],
      "execution_count": 15,
      "outputs": []
    },
    {
      "cell_type": "code",
      "metadata": {
        "id": "euspP8RTAC1c",
        "colab_type": "code",
        "colab": {
          "base_uri": "https://localhost:8080/",
          "height": 34
        },
        "outputId": "2fea4f5e-ac07-439a-9d01-26d3db1220ee"
      },
      "source": [
        "person(name=\"John\",age=34,height=182)"
      ],
      "execution_count": 16,
      "outputs": [
        {
          "output_type": "stream",
          "text": [
            "{'name': 'John', 'age': 34, 'height': 182}\n"
          ],
          "name": "stdout"
        }
      ]
    },
    {
      "cell_type": "code",
      "metadata": {
        "id": "jUvY5R7pAQ5N",
        "colab_type": "code",
        "colab": {
          "base_uri": "https://localhost:8080/",
          "height": 34
        },
        "outputId": "c47c58a5-a512-42fa-a4f5-211cf94b5cba"
      },
      "source": [
        "person(name=\"Lisa\",age=24,height=172)"
      ],
      "execution_count": 17,
      "outputs": [
        {
          "output_type": "stream",
          "text": [
            "{'name': 'Lisa', 'age': 24, 'height': 172}\n"
          ],
          "name": "stdout"
        }
      ]
    }
  ]
}