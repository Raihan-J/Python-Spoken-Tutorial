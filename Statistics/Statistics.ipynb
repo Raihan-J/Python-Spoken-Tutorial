{
  "nbformat": 4,
  "nbformat_minor": 0,
  "metadata": {
    "colab": {
      "name": "Statistics.ipynb",
      "provenance": [],
      "authorship_tag": "ABX9TyPwcvQhPjrZ8rjyD+uOSyws",
      "include_colab_link": true
    },
    "kernelspec": {
      "name": "python3",
      "display_name": "Python 3"
    }
  },
  "cells": [
    {
      "cell_type": "markdown",
      "metadata": {
        "id": "view-in-github",
        "colab_type": "text"
      },
      "source": [
        "<a href=\"https://colab.research.google.com/github/Raihan-J/Python-Spoken-Tutorial/blob/master/Statistics/Statistics.ipynb\" target=\"_parent\"><img src=\"https://colab.research.google.com/assets/colab-badge.svg\" alt=\"Open In Colab\"/></a>"
      ]
    },
    {
      "cell_type": "code",
      "metadata": {
        "id": "ifSD0NOILoKv",
        "colab_type": "code",
        "colab": {
          "base_uri": "https://localhost:8080/",
          "height": 425
        },
        "outputId": "47c79db1-c571-4c94-fbdc-84bbf784f122"
      },
      "source": [
        "!rm football.*\n",
        "!wget https://raw.githubusercontent.com/Raihan-J/Python-Spoken-Tutorial/master/Statistics/football.txt\n",
        "!rm student_record.*\n",
        "!wget https://raw.githubusercontent.com/Raihan-J/Python-Spoken-Tutorial/master/Statistics/student_record.txt"
      ],
      "execution_count": 1,
      "outputs": [
        {
          "output_type": "stream",
          "text": [
            "rm: cannot remove 'football.*': No such file or directory\n",
            "--2020-09-01 21:37:17--  https://raw.githubusercontent.com/Raihan-J/Python-Spoken-Tutorial/master/Statistics/football.txt\n",
            "Resolving raw.githubusercontent.com (raw.githubusercontent.com)... 151.101.0.133, 151.101.64.133, 151.101.128.133, ...\n",
            "Connecting to raw.githubusercontent.com (raw.githubusercontent.com)|151.101.0.133|:443... connected.\n",
            "HTTP request sent, awaiting response... 200 OK\n",
            "Length: 160 [text/plain]\n",
            "Saving to: ‘football.txt’\n",
            "\n",
            "football.txt        100%[===================>]     160  --.-KB/s    in 0s      \n",
            "\n",
            "2020-09-01 21:37:17 (7.61 MB/s) - ‘football.txt’ saved [160/160]\n",
            "\n",
            "rm: cannot remove 'student_record.*': No such file or directory\n",
            "--2020-09-01 21:37:18--  https://raw.githubusercontent.com/Raihan-J/Python-Spoken-Tutorial/master/Statistics/student_record.txt\n",
            "Resolving raw.githubusercontent.com (raw.githubusercontent.com)... 151.101.0.133, 151.101.64.133, 151.101.128.133, ...\n",
            "Connecting to raw.githubusercontent.com (raw.githubusercontent.com)|151.101.0.133|:443... connected.\n",
            "HTTP request sent, awaiting response... 200 OK\n",
            "Length: 8687394 (8.3M) [text/plain]\n",
            "Saving to: ‘student_record.txt’\n",
            "\n",
            "student_record.txt  100%[===================>]   8.28M  22.6MB/s    in 0.4s    \n",
            "\n",
            "2020-09-01 21:37:18 (22.6 MB/s) - ‘student_record.txt’ saved [8687394/8687394]\n",
            "\n"
          ],
          "name": "stdout"
        }
      ]
    },
    {
      "cell_type": "code",
      "metadata": {
        "id": "DiKJCjuMhjOa",
        "colab_type": "code",
        "colab": {}
      },
      "source": [
        "!pip3 install numpy"
      ],
      "execution_count": null,
      "outputs": []
    },
    {
      "cell_type": "code",
      "metadata": {
        "id": "faItG0Eth0Zo",
        "colab_type": "code",
        "colab": {}
      },
      "source": [
        "import numpy as np\n",
        "\n",
        "L = np.loadtxt(\"student_record.txt\", usecols=(3,4,5,6,7), delimiter=';')"
      ],
      "execution_count": 3,
      "outputs": []
    },
    {
      "cell_type": "code",
      "metadata": {
        "id": "APKY_oq2iy-I",
        "colab_type": "code",
        "colab": {
          "base_uri": "https://localhost:8080/",
          "height": 136
        },
        "outputId": "2881c18f-861f-425d-c1b1-5b50b5798fb3"
      },
      "source": [
        "L"
      ],
      "execution_count": 4,
      "outputs": [
        {
          "output_type": "execute_result",
          "data": {
            "text/plain": [
              "array([[53., 36., 28., 16., 44.],\n",
              "       [58., 37., 42., 35., 40.],\n",
              "       [72., 56., 71., 55., 70.],\n",
              "       ...,\n",
              "       [49., 39., 12., 20., 24.],\n",
              "       [33., 36., 22., 15., 35.],\n",
              "       [17., 14., 15., 14., 20.]])"
            ]
          },
          "metadata": {
            "tags": []
          },
          "execution_count": 4
        }
      ]
    },
    {
      "cell_type": "code",
      "metadata": {
        "id": "TmDm54F0i_o7",
        "colab_type": "code",
        "colab": {
          "base_uri": "https://localhost:8080/",
          "height": 34
        },
        "outputId": "fb7746f1-55d2-4d7c-ef0a-ec61aab3e902"
      },
      "source": [
        "L.shape"
      ],
      "execution_count": 5,
      "outputs": [
        {
          "output_type": "execute_result",
          "data": {
            "text/plain": [
              "(185667, 5)"
            ]
          },
          "metadata": {
            "tags": []
          },
          "execution_count": 5
        }
      ]
    },
    {
      "cell_type": "code",
      "metadata": {
        "id": "BfaP8B8IjZ0Q",
        "colab_type": "code",
        "colab": {
          "base_uri": "https://localhost:8080/",
          "height": 34
        },
        "outputId": "7a7fda67-1034-42d8-da56-b4348f4675c2"
      },
      "source": [
        "L[0]"
      ],
      "execution_count": 6,
      "outputs": [
        {
          "output_type": "execute_result",
          "data": {
            "text/plain": [
              "array([53., 36., 28., 16., 44.])"
            ]
          },
          "metadata": {
            "tags": []
          },
          "execution_count": 6
        }
      ]
    },
    {
      "cell_type": "code",
      "metadata": {
        "id": "dIK5pgDrjcct",
        "colab_type": "code",
        "colab": {}
      },
      "source": [
        "totalmarks = sum(L[0])"
      ],
      "execution_count": 7,
      "outputs": []
    },
    {
      "cell_type": "code",
      "metadata": {
        "id": "C7dxD9g-jjQq",
        "colab_type": "code",
        "colab": {
          "base_uri": "https://localhost:8080/",
          "height": 34
        },
        "outputId": "46f2cc6e-a968-4ff9-f401-88976b124214"
      },
      "source": [
        "totalmarks"
      ],
      "execution_count": 8,
      "outputs": [
        {
          "output_type": "execute_result",
          "data": {
            "text/plain": [
              "177.0"
            ]
          },
          "metadata": {
            "tags": []
          },
          "execution_count": 8
        }
      ]
    },
    {
      "cell_type": "code",
      "metadata": {
        "id": "zsrCZ4Hrjssb",
        "colab_type": "code",
        "colab": {
          "base_uri": "https://localhost:8080/",
          "height": 34
        },
        "outputId": "e6351844-da87-4e14-e644-346e0a84d04f"
      },
      "source": [
        "np.mean(L[0])"
      ],
      "execution_count": 9,
      "outputs": [
        {
          "output_type": "execute_result",
          "data": {
            "text/plain": [
              "35.4"
            ]
          },
          "metadata": {
            "tags": []
          },
          "execution_count": 9
        }
      ]
    },
    {
      "cell_type": "code",
      "metadata": {
        "id": "4COuqgPej0bC",
        "colab_type": "code",
        "colab": {
          "base_uri": "https://localhost:8080/",
          "height": 34
        },
        "outputId": "54a07754-c971-494f-f09d-e8ff2f744f33"
      },
      "source": [
        "np.mean(L,0)"
      ],
      "execution_count": 10,
      "outputs": [
        {
          "output_type": "execute_result",
          "data": {
            "text/plain": [
              "array([73.55452504, 53.79828941, 62.83342759, 50.69806158, 63.17056881])"
            ]
          },
          "metadata": {
            "tags": []
          },
          "execution_count": 10
        }
      ]
    },
    {
      "cell_type": "code",
      "metadata": {
        "id": "QrS5Ld4LkLj7",
        "colab_type": "code",
        "colab": {
          "base_uri": "https://localhost:8080/",
          "height": 34
        },
        "outputId": "c432286e-f3e1-4881-d44e-461872827052"
      },
      "source": [
        "L[:,0]"
      ],
      "execution_count": 11,
      "outputs": [
        {
          "output_type": "execute_result",
          "data": {
            "text/plain": [
              "array([53., 58., 72., ..., 49., 33., 17.])"
            ]
          },
          "metadata": {
            "tags": []
          },
          "execution_count": 11
        }
      ]
    },
    {
      "cell_type": "code",
      "metadata": {
        "id": "5VqSwnWdkP_g",
        "colab_type": "code",
        "colab": {
          "base_uri": "https://localhost:8080/",
          "height": 34
        },
        "outputId": "a00d1c3a-29e5-41df-e384-be7f85b42423"
      },
      "source": [
        "np.median(L[:,0])"
      ],
      "execution_count": 12,
      "outputs": [
        {
          "output_type": "execute_result",
          "data": {
            "text/plain": [
              "76.0"
            ]
          },
          "metadata": {
            "tags": []
          },
          "execution_count": 12
        }
      ]
    },
    {
      "cell_type": "code",
      "metadata": {
        "id": "A0qb0i2OkV9A",
        "colab_type": "code",
        "colab": {
          "base_uri": "https://localhost:8080/",
          "height": 34
        },
        "outputId": "5103a2c7-3463-4f0f-e106-0c8eff2b1f07"
      },
      "source": [
        "np.median(L,0)"
      ],
      "execution_count": 13,
      "outputs": [
        {
          "output_type": "execute_result",
          "data": {
            "text/plain": [
              "array([76., 53., 62., 49., 64.])"
            ]
          },
          "metadata": {
            "tags": []
          },
          "execution_count": 13
        }
      ]
    },
    {
      "cell_type": "code",
      "metadata": {
        "id": "YMADMdpHkZfg",
        "colab_type": "code",
        "colab": {
          "base_uri": "https://localhost:8080/",
          "height": 34
        },
        "outputId": "c179a254-97ac-4ee1-e6a4-8e9c9a411f20"
      },
      "source": [
        "np.std(L[:,0])"
      ],
      "execution_count": 14,
      "outputs": [
        {
          "output_type": "execute_result",
          "data": {
            "text/plain": [
              "14.149386756586962"
            ]
          },
          "metadata": {
            "tags": []
          },
          "execution_count": 14
        }
      ]
    },
    {
      "cell_type": "code",
      "metadata": {
        "id": "L2HW6Y-Dkge-",
        "colab_type": "code",
        "colab": {
          "base_uri": "https://localhost:8080/",
          "height": 34
        },
        "outputId": "f16c75d8-3753-4dae-ce46-e7cded6036b3"
      },
      "source": [
        "np.std(L,0)"
      ],
      "execution_count": 15,
      "outputs": [
        {
          "output_type": "execute_result",
          "data": {
            "text/plain": [
              "array([14.14938676, 15.40067866, 23.49972527, 20.06422781, 16.94574819])"
            ]
          },
          "metadata": {
            "tags": []
          },
          "execution_count": 15
        }
      ]
    },
    {
      "cell_type": "markdown",
      "metadata": {
        "id": "tR37MUVBksxn",
        "colab_type": "text"
      },
      "source": [
        "**Assignment-1**"
      ]
    },
    {
      "cell_type": "code",
      "metadata": {
        "id": "AhuGT5dckyH2",
        "colab_type": "code",
        "colab": {}
      },
      "source": [
        "L = np.loadtxt(\"football.txt\", usecols=(1,2), delimiter=',')"
      ],
      "execution_count": 16,
      "outputs": []
    },
    {
      "cell_type": "code",
      "metadata": {
        "id": "9kz07ZsPk-7D",
        "colab_type": "code",
        "colab": {
          "base_uri": "https://localhost:8080/",
          "height": 34
        },
        "outputId": "b20dc75c-217e-48b5-c3e6-39b3c7a3e8b9"
      },
      "source": [
        "np.sum(L,1)"
      ],
      "execution_count": 17,
      "outputs": [
        {
          "output_type": "execute_result",
          "data": {
            "text/plain": [
              "array([153.,  99.,  86.,  47.,  88.,  99.])"
            ]
          },
          "metadata": {
            "tags": []
          },
          "execution_count": 17
        }
      ]
    },
    {
      "cell_type": "code",
      "metadata": {
        "id": "A60XbTX8lFpr",
        "colab_type": "code",
        "colab": {
          "base_uri": "https://localhost:8080/",
          "height": 34
        },
        "outputId": "48774445-3e6b-41b5-dec4-d0fc6ecc9534"
      },
      "source": [
        "np.mean(L,0)"
      ],
      "execution_count": 18,
      "outputs": [
        {
          "output_type": "execute_result",
          "data": {
            "text/plain": [
              "array([49.33333333, 46.        ])"
            ]
          },
          "metadata": {
            "tags": []
          },
          "execution_count": 18
        }
      ]
    },
    {
      "cell_type": "code",
      "metadata": {
        "id": "mlkYt9MDlKTp",
        "colab_type": "code",
        "colab": {
          "base_uri": "https://localhost:8080/",
          "height": 34
        },
        "outputId": "4eef0ba8-9b96-4eec-c76d-608c6fac6775"
      },
      "source": [
        "np.std(L,0)"
      ],
      "execution_count": 19,
      "outputs": [
        {
          "output_type": "execute_result",
          "data": {
            "text/plain": [
              "array([20.72572208, 15.57776193])"
            ]
          },
          "metadata": {
            "tags": []
          },
          "execution_count": 19
        }
      ]
    }
  ]
}